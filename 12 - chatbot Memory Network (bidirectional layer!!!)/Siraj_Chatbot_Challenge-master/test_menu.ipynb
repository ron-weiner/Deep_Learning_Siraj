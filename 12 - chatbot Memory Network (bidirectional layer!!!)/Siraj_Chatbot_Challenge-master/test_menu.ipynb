{
 "cells": [
  {
   "cell_type": "markdown",
   "metadata": {},
   "source": [
    "# testing scratch pad and stuff - ignore this"
   ]
  },
  {
   "cell_type": "code",
   "execution_count": 40,
   "metadata": {
    "collapsed": false
   },
   "outputs": [
    {
     "data": {
      "text/plain": [
       "<module 'menu' from '/home/mike/py/siraj/Siraj_Chatbot_Challenge/menu.py'>"
      ]
     },
     "execution_count": 40,
     "metadata": {},
     "output_type": "execute_result"
    }
   ],
   "source": [
    "from imp import reload\n",
    "import numpy as np\n",
    "import menu, preprocess, models\n",
    "reload(menu)"
   ]
  },
  {
   "cell_type": "code",
   "execution_count": 31,
   "metadata": {
    "collapsed": false
   },
   "outputs": [],
   "source": [
    "menuitems = [('1', 'choice 1', lambda: 'you chose 1'),\n",
    "             ('2', 'choice 2', lambda: 'you chose 2')\n",
    "            ]\n",
    "\n",
    "m = menu.Menu('00', 'main menu', menuitems)"
   ]
  },
  {
   "cell_type": "code",
   "execution_count": 32,
   "metadata": {
    "collapsed": false
   },
   "outputs": [],
   "source": [
    "x = menu.Choice(menuitems[0])"
   ]
  },
  {
   "cell_type": "code",
   "execution_count": 33,
   "metadata": {
    "collapsed": false
   },
   "outputs": [
    {
     "name": "stdout",
     "output_type": "stream",
     "text": [
      "debug: calling show_menumain menu\n",
      "main menu\n",
      " q: Quit\n",
      " 1: choice 1\n",
      " 2: choice 2\n",
      "Enter menu selection: m\n",
      "Invalid entry!\n",
      "Quitting\n"
     ]
    }
   ],
   "source": [
    "res = m()"
   ]
  },
  {
   "cell_type": "code",
   "execution_count": 29,
   "metadata": {
    "collapsed": false
   },
   "outputs": [
    {
     "data": {
      "text/plain": [
       "'you chose 1'"
      ]
     },
     "execution_count": 29,
     "metadata": {},
     "output_type": "execute_result"
    }
   ],
   "source": [
    "res"
   ]
  },
  {
   "cell_type": "code",
   "execution_count": 34,
   "metadata": {
    "collapsed": false
   },
   "outputs": [
    {
     "data": {
      "text/plain": [
       "'~~~'"
      ]
     },
     "execution_count": 34,
     "metadata": {},
     "output_type": "execute_result"
    }
   ],
   "source": [
    "'~' * 3"
   ]
  },
  {
   "cell_type": "code",
   "execution_count": 35,
   "metadata": {
    "collapsed": false
   },
   "outputs": [
    {
     "name": "stdout",
     "output_type": "stream",
     "text": [
      "enteraoeu\n"
     ]
    },
    {
     "data": {
      "text/plain": [
       "'aoeu'"
      ]
     },
     "execution_count": 35,
     "metadata": {},
     "output_type": "execute_result"
    }
   ],
   "source": [
    "input('enter')"
   ]
  },
  {
   "cell_type": "code",
   "execution_count": 37,
   "metadata": {
    "collapsed": false
   },
   "outputs": [
    {
     "name": "stderr",
     "output_type": "stream",
     "text": [
      "/home/mike/ve/keras/lib/python3.5/re.py:203: FutureWarning: split() requires a non-empty pattern match.\n",
      "  return _compile(pattern, flags).split(string, maxsplit)\n"
     ]
    },
    {
     "name": "stdout",
     "output_type": "stream",
     "text": [
      "<debug> Where is John?\n",
      "<v>Vectorize_query(): [7, 13, 4, 2]\n"
     ]
    },
    {
     "data": {
      "text/plain": [
       "array([[ 7, 13,  4,  2]], dtype=int32)"
      ]
     },
     "execution_count": 37,
     "metadata": {},
     "output_type": "execute_result"
    }
   ],
   "source": [
    "reload(preprocess)\n",
    "reload(models)\n",
    "ve = preprocess.BabiVectorizer()\n",
    "ve.vectorize_query('Where is John?', verbose=True)"
   ]
  },
  {
   "cell_type": "code",
   "execution_count": 50,
   "metadata": {
    "collapsed": false
   },
   "outputs": [
    {
     "name": "stdout",
     "output_type": "stream",
     "text": [
      "(21, 128)\n"
     ]
    },
    {
     "data": {
      "text/plain": [
       "'John'"
      ]
     },
     "execution_count": 50,
     "metadata": {},
     "output_type": "execute_result"
    }
   ],
   "source": [
    "def charvectorize(word, lower=True):\n",
    "    if lower:\n",
    "        word = word.lower()\n",
    "    idxs = [ord(c) for c in word]\n",
    "    vec = np.zeros(128, int)\n",
    "    for c in word:\n",
    "        vec[ord(c)] = 1\n",
    "    return vec\n",
    "    \n",
    "def dist(v1, v2):\n",
    "    dv = v2 - v1\n",
    "    dv = dv**2\n",
    "    dv = np.sum(dv, axis=-1)\n",
    "    return dv**0.5\n",
    "\n",
    "def softdist(word1, word2, lower=True):\n",
    "    v1 = charvectorize(word1, lower)\n",
    "    v2 = charvectorize(word2, lower)\n",
    "    return dist(v1, v2)\n",
    "    \n",
    "    \n",
    "def matchnocase(word, vocab):\n",
    "    lword = word.lower()\n",
    "    listvocab = list(vocab)\n",
    "    lvocab = [w.lower() for w in listvocab]\n",
    "    if lword in lvocab:\n",
    "        return listvocab[lvocab.index(lword)]\n",
    "    return None\n",
    "    \n",
    "\n",
    "def softmatch(word, vocab, cutoff=2.):\n",
    "    \"\"\"Try to soft-match to catch various typos. \"\"\"\n",
    "    vw = charvectorize(word)\n",
    "    vecs = np.array([charvectorize(w) for w in vocab])\n",
    "    print(vecs.shape)\n",
    "    distances = dist(vw, vecs)\n",
    "    idx = np.argmin(distances)\n",
    "    confidence = distances[idx]\n",
    "    if confidence < cutoff:\n",
    "        return vocab[idx]\n",
    "    return None\n",
    "    \n",
    "softmatch('john?', list(ve.word_idx))\n",
    "# matchnocase('MAry', ve.word_idx)"
   ]
  },
  {
   "cell_type": "code",
   "execution_count": 51,
   "metadata": {
    "collapsed": true
   },
   "outputs": [],
   "source": [
    "import os"
   ]
  },
  {
   "cell_type": "code",
   "execution_count": 58,
   "metadata": {
    "collapsed": false
   },
   "outputs": [
    {
     "data": {
      "text/plain": [
       "'foo/bar/spam.txt'"
      ]
     },
     "execution_count": 58,
     "metadata": {},
     "output_type": "execute_result"
    }
   ],
   "source": [
    "os.path.normpath()"
   ]
  },
  {
   "cell_type": "code",
   "execution_count": 57,
   "metadata": {
    "collapsed": false
   },
   "outputs": [
    {
     "data": {
      "text/plain": [
       "'/'"
      ]
     },
     "execution_count": 57,
     "metadata": {},
     "output_type": "execute_result"
    }
   ],
   "source": [
    "os.sep"
   ]
  },
  {
   "cell_type": "code",
   "execution_count": 59,
   "metadata": {
    "collapsed": false
   },
   "outputs": [
    {
     "name": "stdout",
     "output_type": "stream",
     "text": [
      "total 1808\r\n",
      "-rw-rw-r-- 1 mike 234560 Apr  4 17:02 c1_dmn00.hdf5\r\n",
      "-rw-rw-r-- 1 mike 748816 Apr  4 16:17 c2_dmn00.hdf5\r\n",
      "-rw-rw-r-- 1 mike 234560 Apr  4 13:06 dmn00.hdf5\r\n",
      "-rw-rw-r-- 1 mike 234560 Apr  4 15:38 dmn01.hdf5\r\n",
      "-rw-rw-r-- 1 mike 234560 Apr  4 16:00 foo.hdf5\r\n",
      "-rw-rw-r-- 1 mike  11357 Apr  3 17:21 LICENSE\r\n",
      "-rw-rw-r-- 1 mike   5038 Apr  4 17:15 main.py\r\n",
      "-rw-rw-r-- 1 mike   5957 Apr  4 17:15 menu.py\r\n",
      "-rw-rw-r-- 1 mike   3513 Apr  4 14:02 models.py\r\n",
      "-rw-rw-r-- 1 mike  10618 Apr  4 15:10 preprocess.py\r\n",
      "drwxrwxr-x 2 mike   4096 Apr  4 17:15 \u001b[0m\u001b[01;34m__pycache__\u001b[0m/\r\n",
      "-rw-rw-r-- 1 mike    785 Apr  4 17:12 README.md\r\n",
      "-rw-rw-r-- 1 mike   6899 Apr  4 17:20 test_menu.ipynb\r\n",
      "-rw-rw-r-- 1 mike  88279 Apr  4 16:04 training.ipynb\r\n"
     ]
    }
   ],
   "source": [
    "ll"
   ]
  },
  {
   "cell_type": "code",
   "execution_count": 65,
   "metadata": {
    "collapsed": false
   },
   "outputs": [],
   "source": [
    "fname = 'foo/bar//spam.txt'\n",
    "os.makedirs(os.path.dirname(fname), exist_ok=True)"
   ]
  },
  {
   "cell_type": "code",
   "execution_count": 66,
   "metadata": {
    "collapsed": false
   },
   "outputs": [
    {
     "data": {
      "text/plain": [
       "'foo/bar/spam.txt'"
      ]
     },
     "execution_count": 66,
     "metadata": {},
     "output_type": "execute_result"
    }
   ],
   "source": [
    "os.path.normpath(fname)"
   ]
  },
  {
   "cell_type": "code",
   "execution_count": null,
   "metadata": {
    "collapsed": true
   },
   "outputs": [],
   "source": []
  }
 ],
 "metadata": {
  "kernelspec": {
   "display_name": "Python 3",
   "language": "python",
   "name": "python3"
  },
  "language_info": {
   "codemirror_mode": {
    "name": "ipython",
    "version": 3
   },
   "file_extension": ".py",
   "mimetype": "text/x-python",
   "name": "python",
   "nbconvert_exporter": "python",
   "pygments_lexer": "ipython3",
   "version": "3.5.2"
  }
 },
 "nbformat": 4,
 "nbformat_minor": 2
}
