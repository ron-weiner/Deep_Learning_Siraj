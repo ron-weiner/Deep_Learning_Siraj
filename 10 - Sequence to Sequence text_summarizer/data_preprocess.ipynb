{
 "cells": [
  {
   "cell_type": "code",
   "execution_count": null,
   "metadata": {
    "collapsed": true
   },
   "outputs": [],
   "source": [
    "from itertools import islice\n",
    "import json\n",
    "import pickle\n",
    "from nltk.tokenize.moses import MosesTokenizer\n",
    "heads = []\n",
    "desc = []\n",
    "tokenizer = MosesTokenizer()\n",
    "ln = 0\n",
    "\n",
    "with open(\"sample-1M.jsonl\") as fp:\n",
    "    for line in fp:\n",
    "        ln =+1\n",
    "        obj = json.loads(line)\n",
    "        try:\n",
    "            heads.append(tokenizer.tokenize(obj.get('title'), return_str=True))\n",
    "            desc.append(tokenizer.tokenize(obj.get('content'), return_str=True))\n",
    "        except:\n",
    "            pass\n",
    "\n",
    "print(\"Done iterating and tokenizing for %s lines\"%str(ln))\n",
    "\n",
    "tup = (heads,desc,None)\n",
    "\n",
    "# Store data (serialize)\n",
    "with open('sample.pickle', 'wb') as handle:\n",
    "    pickle.dump(tup, handle, protocol=pickle.HIGHEST_PROTOCOL)\n",
    "\n",
    "print(\"Done Saving the pickle!\")    \n",
    "\n",
    "#check that the file was saved as expected\n",
    "#with open('sample.pickle', 'rb') as handle:\n",
    "#    h,d,k = pickle.load(handle)\n",
    "#print(h[0])\n",
    "\n"
   ]
  }
 ],
 "metadata": {
  "kernelspec": {
   "display_name": "Python 3",
   "language": "python",
   "name": "python3"
  },
  "language_info": {
   "codemirror_mode": {
    "name": "ipython",
    "version": 3
   },
   "file_extension": ".py",
   "mimetype": "text/x-python",
   "name": "python",
   "nbconvert_exporter": "python",
   "pygments_lexer": "ipython3",
   "version": "3.5.3"
  }
 },
 "nbformat": 4,
 "nbformat_minor": 2
}
