{
 "cells": [
  {
   "cell_type": "markdown",
   "metadata": {},
   "source": [
    "# Wall Street Bandits\n",
    "\n",
    "Quick and simple one this week. We will use reinforcement learning in the Multi-Armed Bandit paradigm in order to select a stock trading bot with the best performance. "
   ]
  },
  {
   "cell_type": "code",
   "execution_count": 1,
   "metadata": {
    "collapsed": true
   },
   "outputs": [],
   "source": [
    "%matplotlib inline"
   ]
  },
  {
   "cell_type": "code",
   "execution_count": 2,
   "metadata": {
    "collapsed": true
   },
   "outputs": [],
   "source": [
    "from __future__ import division, print_function\n",
    "import tensorflow as tf\n",
    "import numpy as np, pandas as pd\n",
    "import matplotlib.pyplot as plt\n",
    "try:\n",
    "    from tqdm import tqdm\n",
    "except ImportError:\n",
    "    def tqdm(x):\n",
    "        return x # sub out TQDM if it isn't installed, since it isn't strictly necessary. Just shiny. \n",
    "\n",
    "import preprocess # this is necessary for data i/o"
   ]
  },
  {
   "cell_type": "markdown",
   "metadata": {},
   "source": [
    "#### First, let us define a generic parent class with necessary functions, so we can subclass later with the specific bots. OOP FTW!"
   ]
  },
  {
   "cell_type": "code",
   "execution_count": 3,
   "metadata": {
    "collapsed": true
   },
   "outputs": [],
   "source": [
    "class BanditBot:\n",
    "    name = 'BaseBot'\n",
    "    inflation_loss = 0.995 # Due to inflation, holding on to cash is equivalent to losing money. We coarsely simulate this with this parameter\n",
    "    def __init__(self, roi=1., bankroll=1., nt=50, p=1., q=0., r_buy=1., r_sell=1.):\n",
    "        self.roi = roi # Return on Investment - used to calculate Buy And Hold strategy\n",
    "        self.bankroll = bankroll # needed to determine how much we can short\n",
    "        self.p = p # our principle \n",
    "        self.q = q # amount of stock\n",
    "        self.p0 = p # save the initial bankroll for reset\n",
    "        self.q0 = q \n",
    "        self.r_buy = r_buy # the ratio of p to spend on purchase \n",
    "        self.r_sell = r_sell # the ratio of p to liquidate on sell\n",
    "        self.nt = nt # length of input vector\n",
    "        \n",
    "        self.p_margin = 0 # in development\n",
    "        self.q_margin = 0\n",
    "        \n",
    "    def buy(self, x, t):\n",
    "        '''Buy at time index t at value x[t]'''\n",
    "        p_spent = self.p * self.r_buy\n",
    "        q_bought = p_spent / x[t]\n",
    "        self.q += q_bought\n",
    "        self.p -= p_spent\n",
    "        return (p_spent, q_bought)\n",
    "    \n",
    "    def sell(self, x, t):\n",
    "        '''Sell at time index t at value x[t]'''\n",
    "        q_sold = self.q * self.r_sell \n",
    "        p_earned = q_sold * x[t]\n",
    "        self.q -= q_sold\n",
    "        self.p += p_earned\n",
    "        return (p_earned, q_sold)\n",
    "    \n",
    "    def short_position(self, x, t1, t2):\n",
    "        '''The noble short sell. \"Borrow\" stock in order to sell it immediately, then buy it back at a later date in order return the borrowed shares.\n",
    "        '''\n",
    "        q_short = self.bankroll / x[t1] # decide the amount we want to short, since in theory can short infinite\n",
    "        self.q_margin += q_short\n",
    "        p_earned = q_short * x[t1]\n",
    "        self.p += p_earned\n",
    "        \n",
    "        q_return = self.q_margin\n",
    "        p_buyback = q_return * x[t2]\n",
    "        self.q_margin -= q_return\n",
    "        self.p -= p_buyback\n",
    "        return (p_earned-p_buyback, q_short)\n",
    "        \n",
    "        \n",
    "    def liquidate(self, x):\n",
    "        '''Sell all positions so we are left only with cash'''\n",
    "        q_sold = self.q\n",
    "        p_earned = q_sold * x[-1]\n",
    "        self.q = 0\n",
    "        self.p += p_earned\n",
    "        return (p_earned, q_sold)\n",
    "    \n",
    "    def score(self, x):\n",
    "        '''Liquidate all shares at current market price and then compute how much money we made.\n",
    "        For the reinforcement paradigm to work well, we define score == 0 as neither gained nor lost any money this round'''\n",
    "        self.liquidate(x)\n",
    "        return float((self.roi * self.inflation_loss * self.p) - self.p0)\n",
    "    \n",
    "    def reset(self):\n",
    "        '''Set funds back to original bankroll'''\n",
    "        self.p = self.p0\n",
    "        self.q = self.q0\n",
    "        \n",
    "        \n",
    "    def __call__(self, x, *args, **kwargs):\n",
    "        '''We will use the call protocol to represent running the bot on a single epoch. This will be overloaded for each subclass. Just a fancy little convenience.\n",
    "            reward = bot()\n",
    "        would be the same as: \n",
    "            reward = bot.pullBandit()\n",
    "        '''\n",
    "        result = np.random.randn(1)\n",
    "        if result > 0:\n",
    "            return 1 #return a positive reward.\n",
    "        else:\n",
    "            return -1 #return a negative reward.\n",
    "        "
   ]
  },
  {
   "cell_type": "markdown",
   "metadata": {},
   "source": [
    "## Let's meet our contenders!\n",
    "* Images are used as thumbnails with fair use in mind for variety and educational purpose only, their respective copyright holders retain copyright*\n",
    "\n",
    "### The Wimp\n",
    "![sir robin](images/robin.jpg)\n",
    "Cowardly refuses to invest in the market. It's too risky for him. This will serve as our baseline to control for effects like inflation. \n",
    "*When danger reared its ugly head, he bravely turned his tail and fled!*\n",
    "\n",
    "### Buy and Hold\n",
    "![buffet](images/buffet.jpg) \n",
    "The classic strategy. Buy an instrument with good fundamentals and just hold on to it for a long period of time. This works well because the markets are demonstrated to consistently increase in value when averaged over long periods of time. My money's on this one. \n",
    "\n",
    "### The Bull\n",
    "![bull and girl](images/girlandbull.jpg)\n",
    "We expect the market to do well on average. Buy at the start of the time frame and sell at the end of it. However, this involves more trades than the Buy and Hold\n",
    "\n",
    "### The Bear\n",
    "![bear](images/bear.jpg)\n",
    "We are pessimistic and expect the market to go down. Shortsell right off the bat. I don't expect this bot to perform well, it's mostly to test the short functionality.\n",
    "\n",
    "\n",
    "### Strategic Bull\n",
    "We expect the market to *generally* do well, but not all the time. Check the first N datapoints for an overall trend. If it's upward, buy in and sell at the end of the period. \n",
    "\n",
    "### Strategic Bear\n",
    "We expect the market to *generally* do well, but not all the time. Check the first N datapoints for an overall trend. If it's downward, shortsell until the end of the period. \n",
    "\n",
    "\n",
    "### Bull/Bear strategic trend\n",
    "![bullbear](images/bullbear.jpg)\n",
    "We expect the market to *generally* do well, but not all the time. Check the first N datapoints for an overall trend. If it's upward, buy in. If it's downward, shortsell. Liquidate at the end of the period. \n",
    "\n",
    "\n",
    "### The Monkey\n",
    "![blindmonkey](images/blindmonkey.jpg)\n",
    "> *A blindfolded monkey throwing darts at a newspaper's financial pages could select a portfolio that would do just as well as one carefully selected by experts* - Burton Malkiel\n",
    "\n",
    "Basically, an RNG. If Burton Malkiel is correct, this should do just as well as any hedge fund manager. Champagne and yatchs, here we come!\n",
    "\n",
    "### The YOLOer / WSB\n",
    "![wsb](images/wsb.jpg)\n",
    "Like the monkey, only riskier. Randomly buys and sells AND randomly short sells. You think simple Buy and Hold will get you a yatch?"
   ]
  },
  {
   "cell_type": "code",
   "execution_count": 4,
   "metadata": {
    "collapsed": true
   },
   "outputs": [],
   "source": [
    "class TheWimp(BanditBot):\n",
    "    name = 'TheWimp'\n",
    "    # Cowardly refuses to spend any money! Aka baseline\n",
    "    def __init__(self, nt=50, p=1., q=0., r_buy=1., r_sell=1.):\n",
    "        super().__init__(nt=nt, p=p, q=q, r_buy=r_buy, r_sell=r_sell)\n",
    "        \n",
    "    def __call__(self, x, *args, **kwargs):\n",
    "        return self.score(x)\n",
    "    \n",
    "class BuyHold(BanditBot):\n",
    "    name = 'BuyAndHold'\n",
    "    # The classic approach - buy and hold a long position\n",
    "    def __init__(self, nt=50, p=1., q=0., r_buy=1., r_sell=1., roi=1.):\n",
    "        super().__init__(nt=nt, p=p, q=q, r_buy=r_buy, r_sell=r_sell)\n",
    "        self.roi = roi\n",
    "        \n",
    "    def __call__(self, x, *args, **kwargs):\n",
    "        return self.score(x)\n",
    "        \n",
    "class TheBull(BanditBot):\n",
    "    name = 'TheBull' \n",
    "        \n",
    "    def __call__(self, x, *args, **kwargs):\n",
    "        self.buy(x, 0)\n",
    "        return self.score(x)# liquidate full position\n",
    "    \n",
    "class TheBear(BanditBot):\n",
    "    name = 'TheBear' \n",
    "        \n",
    "    def __call__(self, x, *args, **kwargs):\n",
    "        self.short_position(x, 0, -1)\n",
    "        return self.score(x)# liquidate full position\n",
    "    \n",
    "    \n",
    "    \n",
    "class StratBull(BanditBot):\n",
    "    name = 'StratBull'\n",
    "    # Check the overall progress up to the first (fraction) of the epoch. If bullish, buy in\n",
    "    def __init__(self, nt=50, p=1., q=0., r_buy=1., r_sell=1.):\n",
    "        super().__init__(nt=nt, p=p, q=q, r_buy=r_buy, r_sell=r_sell)\n",
    "        \n",
    "    def __call__(self, x, *args, **kwargs):\n",
    "        nt = len(x)\n",
    "        t1 = nt // 3 # assess period\n",
    "        if x[t1] > x[0]:\n",
    "            self.buy(x, t1+1)\n",
    "            \n",
    "        return self.score(x) # liquidate full position\n",
    "    \n",
    "class StratBear(BanditBot):\n",
    "    name = 'StratBear'\n",
    "    # Check the overall progress up to the first (fraction) of the epoch. If bearish, short sell\n",
    "    def __init__(self, nt=50, p=1., q=0., r_buy=1., r_sell=1.):\n",
    "        super().__init__(nt=nt, p=p, q=q, r_buy=r_buy, r_sell=r_sell)\n",
    "        \n",
    "    def __call__(self, x, *args, **kwargs):\n",
    "        nt = len(x)\n",
    "        t1 = nt // 3 # assess period\n",
    "        if x[t1] < x[0]:\n",
    "            self.short_position(x, t1+1, -1)\n",
    "            \n",
    "        return self.score(x) # liquidate full position\n",
    "    \n",
    "class StratTwin(BanditBot):\n",
    "    name = 'StratTwin'\n",
    "    # Check the overall progress up to the first (fraction) of the epoch. If bull, go long, If bearish, short sell\n",
    "    def __init__(self, nt=50, p=1., q=0., r_buy=1., r_sell=1.):\n",
    "        super().__init__(nt=nt, p=p, q=q, r_buy=r_buy, r_sell=r_sell)\n",
    "        \n",
    "    def __call__(self, x, *args, **kwargs):\n",
    "        nt = len(x)\n",
    "        t1 = nt // 3 # assess period\n",
    "        if x[t1] < x[0]:\n",
    "            self.short_position(x, t1+1, -1)\n",
    "        else:\n",
    "            self.buy(x, t1+1)\n",
    "            \n",
    "        return self.score(x) # liquidate full position\n",
    "    \n",
    "\n",
    "class TheMonkey(BanditBot):\n",
    "    name = 'TheMonkey'\n",
    "    # A blindfolded monkey throwing darts at the newspaper's financial pages \n",
    "    def __init__(self, nt=50, p=1., q=0., r_buy=1., r_sell=1.):\n",
    "        super().__init__(nt=nt, p=p, q=q, r_buy=r_buy, r_sell=r_sell)\n",
    "        \n",
    "    def __call__(self, x, *args, **kwargs):\n",
    "        nt = len(x)\n",
    "        a = np.random.randint(0, nt)\n",
    "        b = np.random.randint(0, nt)\n",
    "        if a > b:\n",
    "            a,b = b,a\n",
    "        \n",
    "        self.buy(x, a)\n",
    "        self.sell(x, b)    \n",
    "        return self.score(x)\n",
    "    \n",
    "class WallStBets(BanditBot):\n",
    "    name = '/r/wallstbets YOLO!'\n",
    "    # A slighly more sophisticated monkey\n",
    "    def __init__(self, nt=50, p=1., q=0., r_buy=1., r_sell=1.):\n",
    "        super().__init__(nt=nt, p=p, q=q, r_buy=r_buy, r_sell=r_sell)\n",
    "        \n",
    "    def __call__(self, x, *args, **kwargs):\n",
    "        nt = len(x)\n",
    "        a = np.random.randint(0, nt)\n",
    "        b = np.random.randint(0, nt)\n",
    "        if a > b:\n",
    "            a,b = b,a\n",
    "        \n",
    "        if np.random.randint(0,2):\n",
    "            self.short_position(x, a, b)\n",
    "        else:\n",
    "            self.buy(x, a)\n",
    "            self.sell(x, b)    \n",
    "        return self.score(x)\n"
   ]
  },
  {
   "cell_type": "code",
   "execution_count": 5,
   "metadata": {
    "collapsed": true
   },
   "outputs": [],
   "source": [
    "# Set some overall training parameters\n",
    "# We will need many more training periods than the toy example. \n",
    "total_episodes = 100000 #Set total number of episodes to train agent on.\n",
    "mini_epoch_size = 100\n",
    "print_epoch_size = 10000\n"
   ]
  },
  {
   "cell_type": "code",
   "execution_count": 6,
   "metadata": {},
   "outputs": [
    {
     "name": "stdout",
     "output_type": "stream",
     "text": [
      "(3663, 100, 1) (3663,) (407, 100, 1) (407,)\n"
     ]
    }
   ],
   "source": [
    "# Get our raw data. Totally ripped off the process script from the other Wall Street tutorial, so it's a little inefficient, but it'll work for our purposes\n",
    "raw_data = pd.read_csv('data/sp500.csv', header=None)\n",
    "x_train, y_train, x_test, y_test = preprocess.load_data('data/sp500.csv', mini_epoch_size, False)\n",
    "print(x_train.shape, y_train.shape, x_test.shape, y_test.shape)"
   ]
  },
  {
   "cell_type": "code",
   "execution_count": 7,
   "metadata": {
    "collapsed": true
   },
   "outputs": [],
   "source": [
    "# Sanity check. \n",
    "assert mini_epoch_size < 0.5*len(x_train), 'Mini epoch size too large'"
   ]
  },
  {
   "cell_type": "code",
   "execution_count": 8,
   "metadata": {},
   "outputs": [
    {
     "data": {
      "text/plain": [
       "[<matplotlib.lines.Line2D at 0x1672d9b2198>]"
      ]
     },
     "execution_count": 8,
     "metadata": {},
     "output_type": "execute_result"
    },
    {
     "data": {
      "image/png": "[encoded data removed]",
      "text/plain": [
       "<matplotlib.figure.Figure at 0x16729abe908>"
      ]
     },
     "metadata": {},
     "output_type": "display_data"
    }
   ],
   "source": [
    "# Have a gander at the stock data. As you can see, the overall trend is upwards\n",
    "plt.plot(raw_data[0])"
   ]
  },
  {
   "cell_type": "code",
   "execution_count": 9,
   "metadata": {},
   "outputs": [
    {
     "name": "stdout",
     "output_type": "stream",
     "text": [
      "1.49176078618\n"
     ]
    }
   ],
   "source": [
    "# Determine how much the simple buy and hold will appreciate over the time frame\n",
    "stock_ary = raw_data[0].values\n",
    "buy_and_hold = stock_ary[-1] / stock_ary[0]\n",
    "print(buy_and_hold)"
   ]
  },
  {
   "cell_type": "code",
   "execution_count": 10,
   "metadata": {},
   "outputs": [
    {
     "name": "stdout",
     "output_type": "stream",
     "text": [
      "1.01097866943\n"
     ]
    }
   ],
   "source": [
    "# Calc average return for basic buy and hold strategy over each mini-epoch period\n",
    "avg_return = buy_and_hold** (mini_epoch_size / len(x_train))\n",
    "print(avg_return)"
   ]
  },
  {
   "cell_type": "code",
   "execution_count": 11,
   "metadata": {
    "collapsed": true
   },
   "outputs": [],
   "source": [
    "# Create our ensemble\n",
    "bots = [TheWimp(),\n",
    "        BuyHold(roi=avg_return),\n",
    "        TheMonkey(),\n",
    "        TheBull(),\n",
    "        TheBear(),\n",
    "        StratBull(),\n",
    "        StratBear()]\n",
    "\n",
    "num_bandits = len(bots)"
   ]
  },
  {
   "cell_type": "code",
   "execution_count": 12,
   "metadata": {
    "collapsed": true
   },
   "outputs": [],
   "source": [
    "#init our agent\n",
    "\n",
    "tf.reset_default_graph()\n",
    "\n",
    "#These two lines established the feed-forward part of the network. \n",
    "#This does the actual choosing.\n",
    "weights = tf.Variable(tf.ones([num_bandits]))\n",
    "chosen_action = tf.argmax(weights,0)\n",
    "\n",
    "#The next six lines establish the training proceedure. \n",
    "#We feed the reward and chosen action into the network\n",
    "#to compute the loss, and use it to update the network.\n",
    "reward_holder = tf.placeholder(shape=[1],dtype=tf.float32)\n",
    "action_holder = tf.placeholder(shape=[1],dtype=tf.int32)\n",
    "responsible_weight = tf.slice(weights,action_holder,[1])\n",
    "loss = -(tf.log(responsible_weight)*reward_holder)\n",
    "optimizer = tf.train.GradientDescentOptimizer(learning_rate=0.001)\n",
    "update = optimizer.minimize(loss)"
   ]
  },
  {
   "cell_type": "markdown",
   "metadata": {},
   "source": [
    "## Reinforcement training\n",
    "I will use the stock reinforcement training protocol pretty much as is. All I've done is substituted the function `pullBandit()` with a call to the active bot's main function. "
   ]
  },
  {
   "cell_type": "code",
   "execution_count": 13,
   "metadata": {},
   "outputs": [
    {
     "name": "stdout",
     "output_type": "stream",
     "text": [
      "Mini-epoch size: 100\n",
      "Num Mini-epochs: 1000\n",
      "WARNING:tensorflow:From <ipython-input-13-d320c44aa23d>:8: initialize_all_variables (from tensorflow.python.ops.variables) is deprecated and will be removed after 2017-03-02.\n",
      "Instructions for updating:\n",
      "Use `tf.global_variables_initializer` instead.\n"
     ]
    },
    {
     "name": "stderr",
     "output_type": "stream",
     "text": [
      "100%|███████████████████████████████████████████████████████████████| 100000/100000 [01:20<00:00, 1248.71it/s]\n"
     ]
    },
    {
     "name": "stdout",
     "output_type": "stream",
     "text": [
      "The agent thinks bandit BuyAndHold is the most promising....\n"
     ]
    }
   ],
   "source": [
    "\n",
    "\n",
    "sample_ratio = total_episodes / mini_epoch_size\n",
    "print('Mini-epoch size: {}\\nNum Mini-epochs: {}'.format(mini_epoch_size, total_episodes // mini_epoch_size))\n",
    "total_reward = np.zeros(num_bandits) #Set scoreboard for bandits to 0.\n",
    "e = 0.2 #Set the chance of taking a random action.\n",
    "\n",
    "init = tf.initialize_all_variables()\n",
    "verbose_updates = False\n",
    "# Launch the tensorflow graph\n",
    "with tf.Session() as sess:\n",
    "    sess.run(init)\n",
    "    for i in tqdm(range(total_episodes)):\n",
    "#         print('Ep {} of {}'.format(i, total_episodes))\n",
    "        \n",
    "        \n",
    "        tp = np.random.randint(0, len(x_train))\n",
    "        x = x_train[tp].ravel() # select time period\n",
    "        \n",
    "        #Choose either a random action or one from our network.\n",
    "        if np.random.rand(1) < e:\n",
    "            action = np.random.randint(num_bandits)\n",
    "        else:\n",
    "            action = sess.run(chosen_action)\n",
    "        \n",
    "#         reward = pullBandit(bandits[action]) #Get our reward from picking one of the bandits.\n",
    "        reward = bots[action](x) #Get our reward from picking one of the bandits.\n",
    "        \n",
    "\n",
    "        #Update the network.\n",
    "        _,resp,ww = sess.run([update,responsible_weight,weights], feed_dict={reward_holder:[reward],action_holder:[action]})\n",
    "        \n",
    "        #Update our running tally of scores.\n",
    "        total_reward[action] += reward\n",
    "        \n",
    "        if i % print_epoch_size == 0 and verbose_updates:\n",
    "            print('Results: ', ' '.join(['{:.3f}'.format(bot.p) for bot in bots]))\n",
    "            print(\"Running reward: {}\".format(str(total_reward)))\n",
    "        if i % mini_epoch_size == 0:\n",
    "            [bot.reset() for bot in bots]\n",
    "winner = np.argmax(ww)\n",
    "print(\"The agent thinks bandit {} is the most promising....\".format(bots[winner].name))\n"
   ]
  },
  {
   "cell_type": "markdown",
   "metadata": {},
   "source": [
    "### Let's see how they performed\n",
    "I normalized the score, since it's roughly proportional to the total number of episodes. This score is only a relative indicator, it does not tell us what our ROI would be."
   ]
  },
  {
   "cell_type": "code",
   "execution_count": 14,
   "metadata": {},
   "outputs": [
    {
     "name": "stdout",
     "output_type": "stream",
     "text": [
      "   TheWimp:     -0.147 \n",
      "BuyAndHold:     +4.905 *\n",
      " TheMonkey:     +0.257 \n",
      "   TheBull:     +0.927 \n",
      "   TheBear:     -1.119 \n",
      " StratBull:     +0.419 \n",
      " StratBear:     -0.261 \n"
     ]
    }
   ],
   "source": [
    "for i, bot in enumerate(bots):\n",
    "    star = '*' if i == winner else ''\n",
    "    print('{: >10}: {: >+10.3f} {}'.format(bot.name, 1000*total_reward[i]/total_episodes, star))\n"
   ]
  },
  {
   "cell_type": "markdown",
   "metadata": {},
   "source": [
    "### A winner is ~~you~~ Buy and Hold! (at least for this seed value)\n",
    "#### Looks like (for total_episodes > 100,000), the tried-and true method wins. That's pretty cool, but we had to use quite a large number of episodes to get a stable result. I've observed with this technique, there is somewhat of an effect of 'early winner takes all'. With lower numbers of runs, the model which by chance gets a bit of an advantage tends to pull out way ahead. What if we just run all models in parallel, do we see the same results?"
   ]
  },
  {
   "cell_type": "code",
   "execution_count": 15,
   "metadata": {},
   "outputs": [
    {
     "name": "stdout",
     "output_type": "stream",
     "text": [
      "Mini-epoch size: 100\n",
      "Num Mini-epochs: 1000\n",
      "WARNING:tensorflow:From <ipython-input-15-552c84b3fe2a>:4: initialize_all_variables (from tensorflow.python.ops.variables) is deprecated and will be removed after 2017-03-02.\n",
      "Instructions for updating:\n",
      "Use `tf.global_variables_initializer` instead.\n"
     ]
    },
    {
     "name": "stderr",
     "output_type": "stream",
     "text": [
      "100%|███████████████████████████████████████████████████████████████| 100000/100000 [00:15<00:00, 6453.10it/s]\n"
     ]
    },
    {
     "name": "stdout",
     "output_type": "stream",
     "text": [
      "The agent thinks TheBull is the most promising....\n"
     ]
    }
   ],
   "source": [
    "print('Mini-epoch size: {}\\nNum Mini-epochs: {}'.format(mini_epoch_size, total_episodes // mini_epoch_size))\n",
    "total_reward = np.zeros(num_bandits) #Set scoreboard for bandits to 0.\n",
    "\n",
    "init = tf.initialize_all_variables()\n",
    "verbose_updates = False\n",
    "# Launch the tensorflow graph\n",
    "with tf.Session() as sess:\n",
    "    sess.run(init)\n",
    "   \n",
    "    for i in tqdm(range(total_episodes)):\n",
    "        tp = np.random.randint(0, len(x_train))\n",
    "        x = x_train[tp].ravel() # select time period\n",
    "        for action in range(len(bots)):\n",
    "            reward = bots[action](x) #Get our reward from picking one of the bandits.\n",
    "\n",
    "            #Update our running tally of scores.\n",
    "            total_reward[action] += reward\n",
    "\n",
    "        if i % print_epoch_size == 0 and verbose_updates:\n",
    "            print('Results: ', ' '.join(['{:.3f}'.format(bot.p) for bot in bots]))\n",
    "            print(\"Running reward: {}\".format(str(total_reward)))\n",
    "        if i % mini_epoch_size == 0:\n",
    "            [bot.reset() for bot in bots]\n",
    "    \n",
    "winner = np.argmax(total_reward)\n",
    "print(\"The agent thinks {} is the most promising....\".format(bots[winner].name))"
   ]
  },
  {
   "cell_type": "code",
   "execution_count": 16,
   "metadata": {},
   "outputs": [
    {
     "name": "stdout",
     "output_type": "stream",
     "text": [
      "   TheWimp:     -0.050 \n",
      "BuyAndHold:     +0.059 \n",
      " TheMonkey:     +2.681 \n",
      "   TheBull:    +12.690 *\n",
      "   TheBear:     -7.312 \n",
      " StratBull:     +5.304 \n",
      " StratBear:     -0.829 \n"
     ]
    }
   ],
   "source": [
    "for i, bot in enumerate(bots):\n",
    "    star = '*' if i == winner else ''\n",
    "    print('{: >10}: {: >+10.3f} {}'.format(bot.name, 10*total_reward[i]/total_episodes, star))"
   ]
  },
  {
   "cell_type": "markdown",
   "metadata": {
    "collapsed": true
   },
   "source": [
    "#### Now it seems to favor the Bull over the Buy and Hold. Interesting. \n",
    "This is likely because the Bull strategy is more heavily hit by market fluctuations, which the Reinforcement Learning paradigm picks up on, and penalizes. However, if we take away that hysteresis effect (think of it as a 'bailout' each time we lose money), the Bull has a slight advantage, since it isn't really penalized by past losses as well. \n",
    "\n",
    "### I'm calling that successful reinforcement learning!\n",
    "\n",
    "So, at least with these really simple models, you can't beat the sound advice of invest your money and DON'T TOUCH IT. I'll catch up with you wizards in my penthouse...30 years from now ;)\n",
    "![pig](images/piggy.jpg)"
   ]
  }
 ],
 "metadata": {
  "kernelspec": {
   "display_name": "Python 3",
   "language": "python",
   "name": "python3"
  },
  "language_info": {
   "codemirror_mode": {
    "name": "ipython",
    "version": 3
   },
   "file_extension": ".py",
   "mimetype": "text/x-python",
   "name": "python",
   "nbconvert_exporter": "python",
   "pygments_lexer": "ipython3",
   "version": "3.5.3"
  }
 },
 "nbformat": 4,
 "nbformat_minor": 1
}
