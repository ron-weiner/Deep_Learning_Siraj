{
 "cells": [
  {
   "cell_type": "markdown",
   "metadata": {},
   "source": [
    "### Building an image classification model using very little data  \n",
    "\n",
    "Based on the tutorial by Francois Chollet @fchollet https://blog.keras.io/building-powerful-image-classification-models-using-very-little-data.html and the workbook by Guillaume Dominici https://github.com/gggdominici/keras-workshop\n",
    "\n",
    "This tutorial presents several ways to build an image classifier using keras from just a few hundred or thousand pictures from each class you want to be able to recognize.\n",
    "\n",
    "We will go over the following options:  \n",
    "\n",
    "- training a small network from scratch (as a baseline)  \n",
    "- using the bottleneck features of a pre-trained network  \n",
    "- fine-tuning the top layers of a pre-trained network  \n",
    "  \n",
    "This will lead us to cover the following Keras features:   \n",
    "  \n",
    "- fit_generator for training Keras a model using Python data generators  \n",
    "- ImageDataGenerator for real-time data augmentation  \n",
    "- layer freezing and model fine-tuning  \n",
    "- ...and more.  \n"
   ]
  },
  {
   "cell_type": "markdown",
   "metadata": {},
   "source": [
    "## Data"
   ]
  },
  {
   "cell_type": "markdown",
   "metadata": {},
   "source": [
    "Data can be downloaded at:\n",
    "https://www.kaggle.com/c/dogs-vs-cats/data  \n",
    "All you need is the train set  \n",
    "The recommended folder structure is:  "
   ]
  },
  {
   "cell_type": "markdown",
   "metadata": {},
   "source": [
    "### Folder structure"
   ]
  },
  {
   "cell_type": "markdown",
   "metadata": {},
   "source": [
    "```python\n",
    "data/\n",
    "    train/\n",
    "        dogs/ ### 1024 pictures\n",
    "            dog001.jpg\n",
    "            dog002.jpg\n",
    "            ...\n",
    "        cats/ ### 1024 pictures\n",
    "            cat001.jpg\n",
    "            cat002.jpg\n",
    "            ...\n",
    "    validation/\n",
    "        dogs/ ### 416 pictures\n",
    "            dog001.jpg\n",
    "            dog002.jpg\n",
    "            ...\n",
    "        cats/ ### 416 pictures\n",
    "            cat001.jpg\n",
    "            cat002.jpg\n",
    "            ...\n",
    "```\n",
    "Note : for this example we only consider 2x1000 training images and 2x400 testing images among the 2x12500 available."
   ]
  },
  {
   "cell_type": "markdown",
   "metadata": {},
   "source": [
    "The github repo includes about 1500 images for this model. The original Kaggle dataset is much larger. The purpose of this demo is to show how you can build models with smaller size datasets. You should be able to improve this model by using more data."
   ]
  },
  {
   "cell_type": "markdown",
   "metadata": {},
   "source": [
    "### Data loading"
   ]
  },
  {
   "cell_type": "code",
   "execution_count": 1,
   "metadata": {},
   "outputs": [
    {
     "name": "stdout",
     "output_type": "stream",
     "text": [
      "Requirement already satisfied: pillow in c:\\users\\hila\\anaconda3\\envs\\py35\\lib\\site-packages\n",
      "Requirement already satisfied: olefile in c:\\users\\hila\\anaconda3\\envs\\py35\\lib\\site-packages (from pillow)\n"
     ]
    },
    {
     "name": "stderr",
     "output_type": "stream",
     "text": [
      "'KERAS_BACKEND' is not recognized as an internal or external command,\n",
      "operable program or batch file.\n"
     ]
    }
   ],
   "source": [
    "##This notebook is built around using tensorflow as the backend for keras\n",
    "!pip install pillow\n",
    "!KERAS_BACKEND=tensorflow python -c \"from keras import backend\""
   ]
  },
  {
   "cell_type": "code",
   "execution_count": 2,
   "metadata": {},
   "outputs": [
    {
     "name": "stderr",
     "output_type": "stream",
     "text": [
      "Using TensorFlow backend.\n"
     ]
    }
   ],
   "source": [
    "import os\n",
    "import numpy as np\n",
    "from keras.models import Sequential\n",
    "from keras.layers import Activation, Dropout, Flatten, Dense\n",
    "from keras.preprocessing.image import ImageDataGenerator\n",
    "from keras.layers import Convolution2D, MaxPooling2D, ZeroPadding2D\n",
    "from keras import optimizers"
   ]
  },
  {
   "cell_type": "code",
   "execution_count": 3,
   "metadata": {
    "collapsed": true
   },
   "outputs": [],
   "source": [
    "# dimensions of our images.\n",
    "img_width, img_height = 150, 150\n",
    "\n",
    "train_data_dir = '../../../../Pictures/tf/pictures/train'\n",
    "validation_data_dir = '../../../../Pictures/tf/pictures/valid'"
   ]
  },
  {
   "cell_type": "markdown",
   "metadata": {},
   "source": [
    "### Imports"
   ]
  },
  {
   "cell_type": "code",
   "execution_count": 4,
   "metadata": {},
   "outputs": [
    {
     "name": "stdout",
     "output_type": "stream",
     "text": [
      "Found 21997 images belonging to 2 classes.\n",
      "Found 3002 images belonging to 2 classes.\n"
     ]
    }
   ],
   "source": [
    "# used to rescale the pixel values from [0, 255] to [0, 1] interval\n",
    "datagen = ImageDataGenerator(rescale=1./255)\n",
    "\n",
    "# automagically retrieve images and their classes for train and validation sets\n",
    "train_generator = datagen.flow_from_directory(\n",
    "        train_data_dir,\n",
    "        target_size=(img_width, img_height),\n",
    "        batch_size=16,\n",
    "        class_mode='binary')\n",
    "\n",
    "validation_generator = datagen.flow_from_directory(\n",
    "        validation_data_dir,\n",
    "        target_size=(img_width, img_height),\n",
    "        batch_size=32,\n",
    "        class_mode='binary')"
   ]
  },
  {
   "cell_type": "markdown",
   "metadata": {},
   "source": [
    "## Small Conv Net"
   ]
  },
  {
   "cell_type": "markdown",
   "metadata": {},
   "source": [
    "### Model architecture definition"
   ]
  },
  {
   "cell_type": "code",
   "execution_count": 21,
   "metadata": {},
   "outputs": [
    {
     "name": "stderr",
     "output_type": "stream",
     "text": [
      "C:\\Users\\HILA\\Anaconda3\\envs\\py35\\lib\\site-packages\\ipykernel_launcher.py:2: UserWarning: Update your `Conv2D` call to the Keras 2 API: `Conv2D(32, (3, 3), input_shape=(150, 150,...)`\n",
      "  \n",
      "C:\\Users\\HILA\\Anaconda3\\envs\\py35\\lib\\site-packages\\ipykernel_launcher.py:6: UserWarning: Update your `Conv2D` call to the Keras 2 API: `Conv2D(32, (3, 3))`\n",
      "  \n",
      "C:\\Users\\HILA\\Anaconda3\\envs\\py35\\lib\\site-packages\\ipykernel_launcher.py:10: UserWarning: Update your `Conv2D` call to the Keras 2 API: `Conv2D(64, (3, 3))`\n",
      "  # Remove the CWD from sys.path while we load stuff.\n"
     ]
    }
   ],
   "source": [
    "model = Sequential()\n",
    "model.add(Convolution2D(32, 3, 3, input_shape=(img_width, img_height,3)))\n",
    "model.add(Activation('relu'))\n",
    "model.add(MaxPooling2D(pool_size=(2, 2)))\n",
    "\n",
    "model.add(Convolution2D(32, 3, 3))\n",
    "model.add(Activation('relu'))\n",
    "model.add(MaxPooling2D(pool_size=(2, 2)))\n",
    "\n",
    "model.add(Convolution2D(64, 3, 3))\n",
    "model.add(Activation('relu'))\n",
    "model.add(MaxPooling2D(pool_size=(2, 2)))\n",
    "\n",
    "model.add(Flatten())\n",
    "model.add(Dense(64))\n",
    "model.add(Activation('relu'))\n",
    "model.add(Dropout(0.5))\n",
    "model.add(Dense(1))\n",
    "model.add(Activation('sigmoid'))"
   ]
  },
  {
   "cell_type": "code",
   "execution_count": 22,
   "metadata": {
    "collapsed": true
   },
   "outputs": [],
   "source": [
    "model.compile(loss='binary_crossentropy',\n",
    "              optimizer='rmsprop',\n",
    "              metrics=['accuracy'])"
   ]
  },
  {
   "cell_type": "markdown",
   "metadata": {},
   "source": [
    "### Training"
   ]
  },
  {
   "cell_type": "code",
   "execution_count": 6,
   "metadata": {
    "collapsed": true
   },
   "outputs": [],
   "source": [
    "nb_epoch = 30\n",
    "nb_train_samples = 2048\n",
    "nb_validation_samples = 832"
   ]
  },
  {
   "cell_type": "code",
   "execution_count": 24,
   "metadata": {},
   "outputs": [
    {
     "name": "stderr",
     "output_type": "stream",
     "text": [
      "C:\\Users\\HILA\\Anaconda3\\envs\\py35\\lib\\site-packages\\ipykernel_launcher.py:6: UserWarning: Update your `fit_generator` call to the Keras 2 API: `fit_generator(<keras.pre..., epochs=30, validation_data=<keras.pre..., validation_steps=832, steps_per_epoch=128)`\n",
      "  \n"
     ]
    },
    {
     "name": "stdout",
     "output_type": "stream",
     "text": [
      "Epoch 1/30\n",
      "128/128 [==============================] - 925s - loss: 0.7394 - acc: 0.5264 - val_loss: 0.6814 - val_acc: 0.5546\n",
      "Epoch 2/30\n",
      "128/128 [==============================] - 906s - loss: 0.6788 - acc: 0.6230 - val_loss: 0.6127 - val_acc: 0.6487\n",
      "Epoch 3/30\n",
      "128/128 [==============================] - 931s - loss: 0.6493 - acc: 0.6396 - val_loss: 0.6121 - val_acc: 0.6726\n",
      "Epoch 4/30\n",
      "128/128 [==============================] - 714s - loss: 0.6230 - acc: 0.6670 - val_loss: 0.5763 - val_acc: 0.7160\n",
      "Epoch 5/30\n",
      "128/128 [==============================] - 697s - loss: 0.6155 - acc: 0.6738 - val_loss: 0.5503 - val_acc: 0.7151\n",
      "Epoch 6/30\n",
      "128/128 [==============================] - 796s - loss: 0.5652 - acc: 0.7202 - val_loss: 0.5790 - val_acc: 0.6803\n",
      "Epoch 7/30\n",
      "128/128 [==============================] - 691s - loss: 0.5809 - acc: 0.7207 - val_loss: 0.5144 - val_acc: 0.7568\n",
      "Epoch 8/30\n",
      "128/128 [==============================] - 696s - loss: 0.5699 - acc: 0.7007 - val_loss: 0.5412 - val_acc: 0.7446\n",
      "Epoch 9/30\n",
      "128/128 [==============================] - 690s - loss: 0.5485 - acc: 0.7202 - val_loss: 0.5078 - val_acc: 0.7627\n",
      "Epoch 10/30\n",
      "128/128 [==============================] - 688s - loss: 0.5611 - acc: 0.7271 - val_loss: 0.5368 - val_acc: 0.7311\n",
      "Epoch 11/30\n",
      "128/128 [==============================] - 686s - loss: 0.5632 - acc: 0.7191 - val_loss: 0.4991 - val_acc: 0.7522\n",
      "Epoch 12/30\n",
      "128/128 [==============================] - 683s - loss: 0.5203 - acc: 0.7524 - val_loss: 0.4734 - val_acc: 0.7728\n",
      "Epoch 13/30\n",
      "128/128 [==============================] - 683s - loss: 0.5449 - acc: 0.7290 - val_loss: 0.4724 - val_acc: 0.7688\n",
      "Epoch 14/30\n",
      "128/128 [==============================] - 686s - loss: 0.5170 - acc: 0.7422 - val_loss: 0.4812 - val_acc: 0.7609\n",
      "Epoch 15/30\n",
      "128/128 [==============================] - 694s - loss: 0.5180 - acc: 0.7563 - val_loss: 0.4640 - val_acc: 0.7823\n",
      "Epoch 16/30\n",
      "128/128 [==============================] - 685s - loss: 0.5068 - acc: 0.7651 - val_loss: 0.4580 - val_acc: 0.7760\n",
      "Epoch 17/30\n",
      "128/128 [==============================] - 686s - loss: 0.5099 - acc: 0.7617 - val_loss: 0.4963 - val_acc: 0.7626\n",
      "Epoch 18/30\n",
      "128/128 [==============================] - 695s - loss: 0.5101 - acc: 0.7651 - val_loss: 0.4705 - val_acc: 0.7839\n",
      "Epoch 19/30\n",
      "128/128 [==============================] - 691s - loss: 0.5160 - acc: 0.7544 - val_loss: 0.4478 - val_acc: 0.7946\n",
      "Epoch 20/30\n",
      "128/128 [==============================] - 688s - loss: 0.5070 - acc: 0.7671 - val_loss: 0.4626 - val_acc: 0.7866\n",
      "Epoch 21/30\n",
      "128/128 [==============================] - 685s - loss: 0.5038 - acc: 0.7632 - val_loss: 0.4859 - val_acc: 0.7740\n",
      "Epoch 22/30\n",
      "128/128 [==============================] - 683s - loss: 0.4658 - acc: 0.7905 - val_loss: 0.4373 - val_acc: 0.8069\n",
      "Epoch 23/30\n",
      "128/128 [==============================] - 684s - loss: 0.4876 - acc: 0.7856 - val_loss: 0.4936 - val_acc: 0.7826\n",
      "Epoch 24/30\n",
      "128/128 [==============================] - 687s - loss: 0.4937 - acc: 0.7632 - val_loss: 0.4671 - val_acc: 0.7891\n",
      "Epoch 25/30\n",
      "128/128 [==============================] - 690s - loss: 0.4529 - acc: 0.7896 - val_loss: 0.4226 - val_acc: 0.8143\n",
      "Epoch 26/30\n",
      "128/128 [==============================] - 690s - loss: 0.4629 - acc: 0.7905 - val_loss: 0.4734 - val_acc: 0.7792\n",
      "Epoch 27/30\n",
      "128/128 [==============================] - 689s - loss: 0.4825 - acc: 0.7852 - val_loss: 0.4327 - val_acc: 0.8058\n",
      "Epoch 28/30\n",
      "128/128 [==============================] - 685s - loss: 0.4614 - acc: 0.7954 - val_loss: 0.4380 - val_acc: 0.8001\n",
      "Epoch 29/30\n",
      "128/128 [==============================] - 684s - loss: 0.4686 - acc: 0.7876 - val_loss: 0.4155 - val_acc: 0.8082\n",
      "Epoch 30/30\n",
      "128/128 [==============================] - 687s - loss: 0.4890 - acc: 0.7739 - val_loss: 0.4028 - val_acc: 0.8228\n"
     ]
    },
    {
     "data": {
      "text/plain": [
       "<keras.callbacks.History at 0x1f856011e48>"
      ]
     },
     "execution_count": 24,
     "metadata": {},
     "output_type": "execute_result"
    }
   ],
   "source": [
    "model.fit_generator(\n",
    "        train_generator,\n",
    "        samples_per_epoch=nb_train_samples,\n",
    "        nb_epoch=nb_epoch,\n",
    "        validation_data=validation_generator,\n",
    "        nb_val_samples=nb_validation_samples)"
   ]
  },
  {
   "cell_type": "code",
   "execution_count": 25,
   "metadata": {
    "collapsed": true
   },
   "outputs": [],
   "source": [
    "model.save_weights('models/basic_cnn_20_epochs.h5')"
   ]
  },
  {
   "cell_type": "code",
   "execution_count": 26,
   "metadata": {
    "collapsed": true
   },
   "outputs": [],
   "source": [
    "#model.load_weights('models_trained/basic_cnn_20_epochs.h5')"
   ]
  },
  {
   "cell_type": "markdown",
   "metadata": {},
   "source": [
    "If your model successfully runs at one epoch, go back and it for 30 epochs by changing nb_epoch above.  I was able to get to an val_acc of 0.71 at 30 epochs.\n",
    "A copy of a pretrained network is available in the pretrained folder."
   ]
  },
  {
   "cell_type": "markdown",
   "metadata": {},
   "source": [
    "### Evaluating on validation set"
   ]
  },
  {
   "cell_type": "markdown",
   "metadata": {},
   "source": [
    "Computing loss and accuracy :"
   ]
  },
  {
   "cell_type": "code",
   "execution_count": 27,
   "metadata": {},
   "outputs": [
    {
     "data": {
      "text/plain": [
       "[0.40306039913776542, 0.82337222429967527]"
      ]
     },
     "execution_count": 27,
     "metadata": {},
     "output_type": "execute_result"
    }
   ],
   "source": [
    "model.evaluate_generator(validation_generator, nb_validation_samples)"
   ]
  },
  {
   "cell_type": "markdown",
   "metadata": {},
   "source": [
    "Evolution of accuracy on training (blue) and validation (green) sets for 1 to 32 epochs :"
   ]
  },
  {
   "cell_type": "markdown",
   "metadata": {},
   "source": [
    "![Accuracy evolution](pictures/scores_no_dataaugmentation.png)"
   ]
  },
  {
   "cell_type": "markdown",
   "metadata": {},
   "source": [
    "**After ~10 epochs the neural network reach ~70% accuracy. We can witness overfitting, no progress is made over validation set in the next epochs**"
   ]
  },
  {
   "cell_type": "markdown",
   "metadata": {},
   "source": [
    "## Data augmentation for improving the model"
   ]
  },
  {
   "cell_type": "markdown",
   "metadata": {},
   "source": [
    "By applying random transformation to our train set, we artificially enhance our dataset with new unseen images.  \n",
    "This will hopefully reduce overfitting and allows better generalization capability for our network."
   ]
  },
  {
   "cell_type": "markdown",
   "metadata": {},
   "source": [
    "Example of data augmentation applied to a picture:\n",
    "![Example of data augmentation applied to a picture](pictures/cat_data_augmentation.png)"
   ]
  },
  {
   "cell_type": "code",
   "execution_count": 28,
   "metadata": {},
   "outputs": [
    {
     "name": "stdout",
     "output_type": "stream",
     "text": [
      "Found 21998 images belonging to 2 classes.\n"
     ]
    }
   ],
   "source": [
    "train_datagen_augmented = ImageDataGenerator(\n",
    "        rescale=1./255,        # normalize pixel values to [0,1]\n",
    "        shear_range=0.2,       # randomly applies shearing transformation\n",
    "        zoom_range=0.2,        # randomly applies shearing transformation\n",
    "        horizontal_flip=True)  # randomly flip the images\n",
    "\n",
    "# same code as before\n",
    "train_generator_augmented = train_datagen_augmented.flow_from_directory(\n",
    "        train_data_dir,\n",
    "        target_size=(img_width, img_height),\n",
    "        batch_size=32,\n",
    "        class_mode='binary')"
   ]
  },
  {
   "cell_type": "code",
   "execution_count": 29,
   "metadata": {},
   "outputs": [
    {
     "name": "stderr",
     "output_type": "stream",
     "text": [
      "C:\\Users\\HILA\\Anaconda3\\envs\\py35\\lib\\site-packages\\ipykernel_launcher.py:6: UserWarning: Update your `fit_generator` call to the Keras 2 API: `fit_generator(<keras.pre..., epochs=30, validation_data=<keras.pre..., validation_steps=832, steps_per_epoch=64)`\n",
      "  \n"
     ]
    },
    {
     "name": "stdout",
     "output_type": "stream",
     "text": [
      "Epoch 1/30\n",
      "64/64 [==============================] - 691s - loss: 0.4699 - acc: 0.7837 - val_loss: 0.4048 - val_acc: 0.8252\n",
      "Epoch 2/30\n",
      "64/64 [==============================] - 690s - loss: 0.4773 - acc: 0.7812 - val_loss: 0.4074 - val_acc: 0.8279\n",
      "Epoch 3/30\n",
      "64/64 [==============================] - 691s - loss: 0.4843 - acc: 0.7803 - val_loss: 0.4078 - val_acc: 0.8167\n",
      "Epoch 4/30\n",
      "64/64 [==============================] - 690s - loss: 0.4701 - acc: 0.7925 - val_loss: 0.4014 - val_acc: 0.8215\n",
      "Epoch 5/30\n",
      "64/64 [==============================] - 694s - loss: 0.4696 - acc: 0.7935 - val_loss: 0.4363 - val_acc: 0.7936\n",
      "Epoch 6/30\n",
      "64/64 [==============================] - 691s - loss: 0.4882 - acc: 0.7778 - val_loss: 0.4057 - val_acc: 0.8218\n",
      "Epoch 7/30\n",
      "64/64 [==============================] - 691s - loss: 0.4391 - acc: 0.8066 - val_loss: 0.3912 - val_acc: 0.8216\n",
      "Epoch 8/30\n",
      "64/64 [==============================] - 694s - loss: 0.4491 - acc: 0.7891 - val_loss: 0.4047 - val_acc: 0.8137\n",
      "Epoch 9/30\n",
      "64/64 [==============================] - 692s - loss: 0.4399 - acc: 0.8086 - val_loss: 0.3803 - val_acc: 0.8304\n",
      "Epoch 10/30\n",
      "64/64 [==============================] - 690s - loss: 0.4535 - acc: 0.7935 - val_loss: 0.3887 - val_acc: 0.8325\n",
      "Epoch 11/30\n",
      "64/64 [==============================] - 685s - loss: 0.4490 - acc: 0.8036 - val_loss: 0.4050 - val_acc: 0.8179\n",
      "Epoch 12/30\n",
      "64/64 [==============================] - 687s - loss: 0.4492 - acc: 0.8018 - val_loss: 0.3859 - val_acc: 0.8349\n",
      "Epoch 13/30\n",
      "64/64 [==============================] - 687s - loss: 0.4405 - acc: 0.8071 - val_loss: 0.4283 - val_acc: 0.8112\n",
      "Epoch 14/30\n",
      "64/64 [==============================] - 686s - loss: 0.4601 - acc: 0.8057 - val_loss: 0.4201 - val_acc: 0.7992\n",
      "Epoch 15/30\n",
      "64/64 [==============================] - 691s - loss: 0.4462 - acc: 0.7959 - val_loss: 0.3775 - val_acc: 0.8373\n",
      "Epoch 16/30\n",
      "64/64 [==============================] - 686s - loss: 0.4526 - acc: 0.7959 - val_loss: 0.3807 - val_acc: 0.8356\n",
      "Epoch 17/30\n",
      "64/64 [==============================] - 687s - loss: 0.4517 - acc: 0.8018 - val_loss: 0.3879 - val_acc: 0.8311\n",
      "Epoch 18/30\n",
      "64/64 [==============================] - 685s - loss: 0.4675 - acc: 0.7871 - val_loss: 0.4325 - val_acc: 0.8292\n",
      "Epoch 19/30\n",
      "64/64 [==============================] - 686s - loss: 0.4298 - acc: 0.8091 - val_loss: 0.4581 - val_acc: 0.7894\n",
      "Epoch 20/30\n",
      "64/64 [==============================] - 689s - loss: 0.4321 - acc: 0.8154 - val_loss: 0.3668 - val_acc: 0.8408\n",
      "Epoch 21/30\n",
      "64/64 [==============================] - 687s - loss: 0.4082 - acc: 0.8242 - val_loss: 0.4199 - val_acc: 0.8037\n",
      "Epoch 22/30\n",
      "64/64 [==============================] - 687s - loss: 0.4476 - acc: 0.8017 - val_loss: 0.3874 - val_acc: 0.8274\n",
      "Epoch 23/30\n",
      "64/64 [==============================] - 686s - loss: 0.4544 - acc: 0.8032 - val_loss: 0.3787 - val_acc: 0.8331\n",
      "Epoch 24/30\n",
      "64/64 [==============================] - 685s - loss: 0.4428 - acc: 0.7998 - val_loss: 0.3784 - val_acc: 0.8297\n",
      "Epoch 25/30\n",
      "64/64 [==============================] - 691s - loss: 0.4423 - acc: 0.8145 - val_loss: 0.4821 - val_acc: 0.7667\n",
      "Epoch 26/30\n",
      "64/64 [==============================] - 691s - loss: 0.4398 - acc: 0.8101 - val_loss: 0.3715 - val_acc: 0.8403\n",
      "Epoch 27/30\n",
      "64/64 [==============================] - 685s - loss: 0.4722 - acc: 0.7935 - val_loss: 0.3885 - val_acc: 0.8453\n",
      "Epoch 28/30\n",
      "64/64 [==============================] - 689s - loss: 0.4261 - acc: 0.8164 - val_loss: 0.4478 - val_acc: 0.8097\n",
      "Epoch 29/30\n",
      "64/64 [==============================] - 689s - loss: 0.4204 - acc: 0.8105 - val_loss: 0.3694 - val_acc: 0.8409\n",
      "Epoch 30/30\n",
      "64/64 [==============================] - 687s - loss: 0.4226 - acc: 0.8203 - val_loss: 0.3818 - val_acc: 0.8381\n"
     ]
    },
    {
     "data": {
      "text/plain": [
       "<keras.callbacks.History at 0x1f857bf3780>"
      ]
     },
     "execution_count": 29,
     "metadata": {},
     "output_type": "execute_result"
    }
   ],
   "source": [
    "model.fit_generator(\n",
    "        train_generator_augmented,\n",
    "        samples_per_epoch=nb_train_samples,\n",
    "        nb_epoch=nb_epoch,\n",
    "        validation_data=validation_generator,\n",
    "        nb_val_samples=nb_validation_samples)"
   ]
  },
  {
   "cell_type": "code",
   "execution_count": 30,
   "metadata": {
    "collapsed": true
   },
   "outputs": [],
   "source": [
    "model.save_weights('models/augmented_30_epochs.h5')"
   ]
  },
  {
   "cell_type": "code",
   "execution_count": 31,
   "metadata": {
    "collapsed": true
   },
   "outputs": [],
   "source": [
    "#model.load_weights('models_trained/augmented_30_epochs.h5')"
   ]
  },
  {
   "cell_type": "markdown",
   "metadata": {},
   "source": [
    "### Evaluating on validation set"
   ]
  },
  {
   "cell_type": "markdown",
   "metadata": {},
   "source": [
    "Computing loss and accuracy :"
   ]
  },
  {
   "cell_type": "code",
   "execution_count": 32,
   "metadata": {},
   "outputs": [
    {
     "data": {
      "text/plain": [
       "[0.38520630758015967, 0.83616861115284413]"
      ]
     },
     "execution_count": 32,
     "metadata": {},
     "output_type": "execute_result"
    }
   ],
   "source": [
    "model.evaluate_generator(validation_generator, nb_validation_samples)"
   ]
  },
  {
   "cell_type": "code",
   "execution_count": 79,
   "metadata": {},
   "outputs": [
    {
     "name": "stdout",
     "output_type": "stream",
     "text": [
      "Found 1 images belonging to 4 classes.\n"
     ]
    },
    {
     "data": {
      "text/plain": [
       "[8.0173282623291016, 0.0]"
      ]
     },
     "execution_count": 79,
     "metadata": {},
     "output_type": "execute_result"
    }
   ],
   "source": [
    "test_me = ImageDataGenerator(rescale=1./255)\n",
    "\n",
    "my_img='./'\n",
    "my_img_num=6\n",
    "validation_my = test_me.flow_from_directory(\n",
    "        my_img,\n",
    "        target_size=(img_height, img_width),\n",
    "        batch_size=32,\n",
    "        class_mode='binary')\n",
    "\n",
    "model.evaluate_generator(validation_my, 1)"
   ]
  },
  {
   "cell_type": "markdown",
   "metadata": {},
   "source": [
    "Evolution of accuracy on training (blue) and validation (green) sets for 1 to 100 epochs :"
   ]
  },
  {
   "cell_type": "markdown",
   "metadata": {},
   "source": [
    "![Accuracy evolution](pictures/scores_with_dataaugmentation.png)"
   ]
  },
  {
   "cell_type": "markdown",
   "metadata": {},
   "source": [
    "**Thanks to data-augmentation, the accuracy on the validation set improved to ~80%**"
   ]
  },
  {
   "cell_type": "markdown",
   "metadata": {},
   "source": [
    "## Using a pre-trained model"
   ]
  },
  {
   "cell_type": "markdown",
   "metadata": {},
   "source": [
    "The process of training a convolutionnal neural network can be very time-consuming and require a lot of datas.  \n",
    "\n",
    "We can go beyond the previous models in terms of performance and efficiency by using a general-purpose, pre-trained image classifier.  This example uses VGG16, a model trained on the ImageNet dataset - which contains millions of images classified in 1000 categories. \n",
    "\n",
    "On top of it, we add a small multi-layer perceptron and we train it on our dataset."
   ]
  },
  {
   "cell_type": "markdown",
   "metadata": {},
   "source": [
    "### VGG16 + small MLP\n",
    "![VGG16 + Dense layers Schema](pictures/vgg16_original.png)"
   ]
  },
  {
   "cell_type": "markdown",
   "metadata": {},
   "source": [
    "#### VGG16 model architecture definition"
   ]
  },
  {
   "cell_type": "code",
   "execution_count": 5,
   "metadata": {
    "collapsed": true
   },
   "outputs": [],
   "source": [
    "model_vgg = Sequential()\n",
    "model_vgg.add(ZeroPadding2D((1, 1), input_shape=(img_width, img_height,3)))\n",
    "model_vgg.add(Convolution2D(64, 3, 3, activation='relu', name='conv1_1'))\n",
    "model_vgg.add(ZeroPadding2D((1, 1)))\n",
    "model_vgg.add(Convolution2D(64, 3, 3, activation='relu', name='conv1_2'))\n",
    "model_vgg.add(MaxPooling2D((2, 2), strides=(2, 2)))\n",
    "\n",
    "model_vgg.add(ZeroPadding2D((1, 1)))\n",
    "model_vgg.add(Convolution2D(128, 3, 3, activation='relu', name='conv2_1'))\n",
    "model_vgg.add(ZeroPadding2D((1, 1)))\n",
    "model_vgg.add(Convolution2D(128, 3, 3, activation='relu', name='conv2_2'))\n",
    "model_vgg.add(MaxPooling2D((2, 2), strides=(2, 2)))\n",
    "\n",
    "model_vgg.add(ZeroPadding2D((1, 1)))\n",
    "model_vgg.add(Convolution2D(256, 3, 3, activation='relu', name='conv3_1'))\n",
    "model_vgg.add(ZeroPadding2D((1, 1)))\n",
    "model_vgg.add(Convolution2D(256, 3, 3, activation='relu', name='conv3_2'))\n",
    "model_vgg.add(ZeroPadding2D((1, 1)))\n",
    "model_vgg.add(Convolution2D(256, 3, 3, activation='relu', name='conv3_3'))\n",
    "model_vgg.add(MaxPooling2D((2, 2), strides=(2, 2)))\n",
    "\n",
    "model_vgg.add(ZeroPadding2D((1, 1)))\n",
    "model_vgg.add(Convolution2D(512, 3, 3, activation='relu', name='conv4_1'))\n",
    "model_vgg.add(ZeroPadding2D((1, 1)))\n",
    "model_vgg.add(Convolution2D(512, 3, 3, activation='relu', name='conv4_2'))\n",
    "model_vgg.add(ZeroPadding2D((1, 1)))\n",
    "model_vgg.add(Convolution2D(512, 3, 3, activation='relu', name='conv4_3'))\n",
    "model_vgg.add(MaxPooling2D((2, 2), strides=(2, 2)))\n",
    "\n",
    "model_vgg.add(ZeroPadding2D((1, 1)))\n",
    "model_vgg.add(Convolution2D(512, 3, 3, activation='relu', name='conv5_1'))\n",
    "model_vgg.add(ZeroPadding2D((1, 1)))\n",
    "model_vgg.add(Convolution2D(512, 3, 3, activation='relu', name='conv5_2'))\n",
    "model_vgg.add(ZeroPadding2D((1, 1)))\n",
    "model_vgg.add(Convolution2D(512, 3, 3, activation='relu', name='conv5_3'))\n",
    "model_vgg.add(MaxPooling2D((2, 2), strides=(2, 2)))"
   ]
  },
  {
   "cell_type": "markdown",
   "metadata": {},
   "source": [
    "#### Loading VGG16 weights\n",
    "This part is a bit complicated because the structure of our model is not exactly the same as the one used when training weights.  \n",
    "Otherwise, we would use the `model.load_weights()` method."
   ]
  },
  {
   "cell_type": "markdown",
   "metadata": {},
   "source": [
    "*Note : the VGG16 weights file (~500MB) is not included in this repository. You can download from here :  \n",
    "https://gist.github.com/baraldilorenzo/07d7802847aaad0a35d3*"
   ]
  },
  {
   "cell_type": "code",
   "execution_count": 6,
   "metadata": {
    "collapsed": true
   },
   "outputs": [],
   "source": [
    "import h5py\n",
    "f = h5py.File('models/vgg/vgg16_weights1.h5')\n",
    "for k in range(f.attrs['nb_layers']):\n",
    "    if k >= len(model_vgg.layers) - 1:\n",
    "        # we don't look at the last two layers in the savefile (fully-connected and activation)\n",
    "        break\n",
    "    g = f['layer_{}'.format(k)]\n",
    "    weights = [g['param_{}'.format(p)] for p in range(g.attrs['nb_params'])]\n",
    "    layer = model_vgg.layers[k]\n",
    "\n",
    "    if layer.__class__.__name__ in ['Convolution1D', 'Convolution2D', 'Convolution3D', 'AtrousConvolution2D']:\n",
    "        weights[0] = np.transpose(weights[0], (2, 3, 1, 0)) \n",
    "    layer.set_weights(weights)\n",
    "f.close()"
   ]
  },
  {
   "cell_type": "markdown",
   "metadata": {},
   "source": [
    "### Using the VGG16 model to process samples"
   ]
  },
  {
   "cell_type": "code",
   "execution_count": 7,
   "metadata": {},
   "outputs": [
    {
     "name": "stdout",
     "output_type": "stream",
     "text": [
      "Found 21997 images belonging to 2 classes.\n",
      "Found 3002 images belonging to 2 classes.\n"
     ]
    }
   ],
   "source": [
    "train_generator_bottleneck = datagen.flow_from_directory(\n",
    "        train_data_dir,\n",
    "        target_size=(img_width, img_height),\n",
    "        batch_size=32,\n",
    "        class_mode=None,\n",
    "        shuffle=False)\n",
    "\n",
    "validation_generator_bottleneck = datagen.flow_from_directory(\n",
    "        validation_data_dir,\n",
    "        target_size=(img_width, img_height),\n",
    "        batch_size=32,\n",
    "        class_mode=None,\n",
    "        shuffle=False)"
   ]
  },
  {
   "cell_type": "markdown",
   "metadata": {},
   "source": [
    "This is a long process, so we save the output of the VGG16 once and for all.  "
   ]
  },
  {
   "cell_type": "code",
   "execution_count": 10,
   "metadata": {},
   "outputs": [],
   "source": [
    "bottleneck_features_train = model_vgg.predict_generator(train_generator_bottleneck, nb_train_samples)\n",
    "np.save(open('models/bottleneck_features_train.npy', 'wb'), bottleneck_features_train)"
   ]
  },
  {
   "cell_type": "code",
   "execution_count": 11,
   "metadata": {
    "collapsed": true
   },
   "outputs": [],
   "source": [
    "bottleneck_features_validation = model_vgg.predict_generator(validation_generator_bottleneck, nb_validation_samples)\n",
    "np.save(open('models/bottleneck_features_validation.npy', 'wb'), bottleneck_features_validation)"
   ]
  },
  {
   "cell_type": "markdown",
   "metadata": {},
   "source": [
    "Now we can load it..."
   ]
  },
  {
   "cell_type": "code",
   "execution_count": 7,
   "metadata": {},
   "outputs": [],
   "source": [
    "train_data = np.load(open('models/bottleneck_features_train.npy', 'rb'))\n",
    "train_labels = np.array([0] * (nb_train_samples // 2) + [1] * (nb_train_samples // 2))\n",
    "\n",
    "validation_data = np.load(open('models/bottleneck_features_validation.npy', 'rb'))\n",
    "validation_labels = np.array([0] * (nb_validation_samples // 2) + [1] * (nb_validation_samples // 2))"
   ]
  },
  {
   "cell_type": "markdown",
   "metadata": {},
   "source": [
    "And define and train the custom fully connected neural network :"
   ]
  },
  {
   "cell_type": "code",
   "execution_count": 8,
   "metadata": {},
   "outputs": [],
   "source": [
    "model_top = Sequential()\n",
    "model_top.add(Flatten(input_shape=train_data.shape[1:]))\n",
    "model_top.add(Dense(256, activation='relu'))\n",
    "model_top.add(Dropout(0.5))\n",
    "model_top.add(Dense(1, activation='sigmoid'))\n",
    "\n",
    "model_top.compile(optimizer='rmsprop', loss='binary_crossentropy', metrics=['accuracy'])"
   ]
  },
  {
   "cell_type": "code",
   "execution_count": 9,
   "metadata": {},
   "outputs": [
    {
     "name": "stdout",
     "output_type": "stream",
     "text": [
      "Train on 2048 samples, validate on 832 samples\n",
      "Epoch 1/40\n",
      "2048/2048 [==============================] - 5s - loss: 1.3343 - acc: 0.5010 - val_loss: 0.7066 - val_acc: 0.5012\n",
      "Epoch 2/40\n",
      "2048/2048 [==============================] - 5s - loss: 0.7067 - acc: 0.5269 - val_loss: 0.7024 - val_acc: 0.4928\n",
      "Epoch 3/40\n",
      "2048/2048 [==============================] - 5s - loss: 0.6954 - acc: 0.5342 - val_loss: 0.6976 - val_acc: 0.5156\n",
      "Epoch 4/40\n",
      "2048/2048 [==============================] - 5s - loss: 0.6831 - acc: 0.5684 - val_loss: 0.7021 - val_acc: 0.5156\n",
      "Epoch 5/40\n",
      "2048/2048 [==============================] - 5s - loss: 0.6794 - acc: 0.5811 - val_loss: 0.7569 - val_acc: 0.4988\n",
      "Epoch 6/40\n",
      "2048/2048 [==============================] - 5s - loss: 0.6586 - acc: 0.6021 - val_loss: 0.7370 - val_acc: 0.5084\n",
      "Epoch 7/40\n",
      "2048/2048 [==============================] - 5s - loss: 0.6416 - acc: 0.6387 - val_loss: 0.7614 - val_acc: 0.5132\n",
      "Epoch 8/40\n",
      "2048/2048 [==============================] - 5s - loss: 0.6161 - acc: 0.6509 - val_loss: 0.7139 - val_acc: 0.4892\n",
      "Epoch 9/40\n",
      "2048/2048 [==============================] - 5s - loss: 0.5834 - acc: 0.6836 - val_loss: 0.7465 - val_acc: 0.4880\n",
      "Epoch 10/40\n",
      "2048/2048 [==============================] - 5s - loss: 0.5585 - acc: 0.7104 - val_loss: 0.7932 - val_acc: 0.4916\n",
      "Epoch 11/40\n",
      "2048/2048 [==============================] - 5s - loss: 0.5376 - acc: 0.7275 - val_loss: 0.7369 - val_acc: 0.5024\n",
      "Epoch 12/40\n",
      "2048/2048 [==============================] - 5s - loss: 0.5013 - acc: 0.7461 - val_loss: 0.8137 - val_acc: 0.5144\n",
      "Epoch 13/40\n",
      "2048/2048 [==============================] - 5s - loss: 0.4891 - acc: 0.7524 - val_loss: 0.7876 - val_acc: 0.5180\n",
      "Epoch 14/40\n",
      "2048/2048 [==============================] - 5s - loss: 0.4512 - acc: 0.7856 - val_loss: 0.8327 - val_acc: 0.5084\n",
      "Epoch 15/40\n",
      "2048/2048 [==============================] - 5s - loss: 0.4129 - acc: 0.8062 - val_loss: 0.8615 - val_acc: 0.5084\n",
      "Epoch 16/40\n",
      "2048/2048 [==============================] - 5s - loss: 0.4108 - acc: 0.8149 - val_loss: 0.8629 - val_acc: 0.5024\n",
      "Epoch 17/40\n",
      "2048/2048 [==============================] - 5s - loss: 0.3944 - acc: 0.8232 - val_loss: 0.8976 - val_acc: 0.5264\n",
      "Epoch 18/40\n",
      "2048/2048 [==============================] - 5s - loss: 0.3651 - acc: 0.8345 - val_loss: 0.9285 - val_acc: 0.5276\n",
      "Epoch 19/40\n",
      "2048/2048 [==============================] - 5s - loss: 0.3360 - acc: 0.8540 - val_loss: 1.0593 - val_acc: 0.5240\n",
      "Epoch 20/40\n",
      "2048/2048 [==============================] - 5s - loss: 0.3324 - acc: 0.8525 - val_loss: 0.9857 - val_acc: 0.5264\n",
      "Epoch 21/40\n",
      "2048/2048 [==============================] - 5s - loss: 0.2856 - acc: 0.8760 - val_loss: 0.9207 - val_acc: 0.5228\n",
      "Epoch 22/40\n",
      "2048/2048 [==============================] - 4s - loss: 0.2644 - acc: 0.8906 - val_loss: 1.3930 - val_acc: 0.5000\n",
      "Epoch 23/40\n",
      "2048/2048 [==============================] - 5s - loss: 0.2616 - acc: 0.8901 - val_loss: 1.0675 - val_acc: 0.5000\n",
      "Epoch 24/40\n",
      "2048/2048 [==============================] - 4s - loss: 0.2391 - acc: 0.9004 - val_loss: 1.1747 - val_acc: 0.5048\n",
      "Epoch 25/40\n",
      "2048/2048 [==============================] - 4s - loss: 0.2211 - acc: 0.9204 - val_loss: 1.5086 - val_acc: 0.4892\n",
      "Epoch 26/40\n",
      "2048/2048 [==============================] - 5s - loss: 0.2129 - acc: 0.9131 - val_loss: 1.3419 - val_acc: 0.5096\n",
      "Epoch 27/40\n",
      "2048/2048 [==============================] - 4s - loss: 0.2091 - acc: 0.9121 - val_loss: 1.2613 - val_acc: 0.5048\n",
      "Epoch 28/40\n",
      "2048/2048 [==============================] - 4s - loss: 0.1957 - acc: 0.9248 - val_loss: 2.0354 - val_acc: 0.5144\n",
      "Epoch 29/40\n",
      "2048/2048 [==============================] - 4s - loss: 0.1971 - acc: 0.9248 - val_loss: 1.5131 - val_acc: 0.5361\n",
      "Epoch 30/40\n",
      "2048/2048 [==============================] - 4s - loss: 0.1674 - acc: 0.9341 - val_loss: 1.4221 - val_acc: 0.4964\n",
      "Epoch 31/40\n",
      "2048/2048 [==============================] - 5s - loss: 0.1571 - acc: 0.9385 - val_loss: 1.3965 - val_acc: 0.4976\n",
      "Epoch 32/40\n",
      "2048/2048 [==============================] - 4s - loss: 0.1564 - acc: 0.9409 - val_loss: 1.3716 - val_acc: 0.5180\n",
      "Epoch 33/40\n",
      "2048/2048 [==============================] - 5s - loss: 0.1548 - acc: 0.9429 - val_loss: 1.2996 - val_acc: 0.5192\n",
      "Epoch 34/40\n",
      "2048/2048 [==============================] - 5s - loss: 0.1492 - acc: 0.9424 - val_loss: 1.5730 - val_acc: 0.5276\n",
      "Epoch 35/40\n",
      "2048/2048 [==============================] - 5s - loss: 0.1401 - acc: 0.9487 - val_loss: 1.5496 - val_acc: 0.4976\n",
      "Epoch 36/40\n",
      "2048/2048 [==============================] - 5s - loss: 0.1343 - acc: 0.9482 - val_loss: 1.5405 - val_acc: 0.4976\n",
      "Epoch 37/40\n",
      "2048/2048 [==============================] - 5s - loss: 0.1180 - acc: 0.9561 - val_loss: 2.0226 - val_acc: 0.5240\n",
      "Epoch 38/40\n",
      "2048/2048 [==============================] - 5s - loss: 0.1255 - acc: 0.9541 - val_loss: 1.5996 - val_acc: 0.5024\n",
      "Epoch 39/40\n",
      "2048/2048 [==============================] - 5s - loss: 0.1205 - acc: 0.9580 - val_loss: 1.7224 - val_acc: 0.5012\n",
      "Epoch 40/40\n",
      "2048/2048 [==============================] - 5s - loss: 0.1009 - acc: 0.9590 - val_loss: 1.7900 - val_acc: 0.4952\n"
     ]
    },
    {
     "data": {
      "text/plain": [
       "<keras.callbacks.History at 0x1369ff1a9b0>"
      ]
     },
     "execution_count": 9,
     "metadata": {},
     "output_type": "execute_result"
    }
   ],
   "source": [
    "nb_epoch=40\n",
    "model_top.fit(train_data, train_labels,\n",
    "          nb_epoch=nb_epoch, batch_size=32,\n",
    "          validation_data=(validation_data, validation_labels))"
   ]
  },
  {
   "cell_type": "markdown",
   "metadata": {},
   "source": [
    "The training process of this small neural network is very fast : ~2s per epoch"
   ]
  },
  {
   "cell_type": "code",
   "execution_count": 10,
   "metadata": {
    "collapsed": true
   },
   "outputs": [],
   "source": [
    "model_top.save_weights('models/bottleneck_40_epochs.h5')"
   ]
  },
  {
   "cell_type": "markdown",
   "metadata": {},
   "source": [
    "### Bottleneck model evaluation"
   ]
  },
  {
   "cell_type": "code",
   "execution_count": null,
   "metadata": {
    "collapsed": true
   },
   "outputs": [],
   "source": [
    "#model_top.load_weights('models/with-bottleneck/1000-samples--100-epochs.h5')\n",
    "#model_top.load_weights('/notebook/Data1/Code/keras-workshop/models/with-bottleneck/1000-samples--100-epochs.h5')"
   ]
  },
  {
   "cell_type": "markdown",
   "metadata": {},
   "source": [
    "Loss and accuracy :"
   ]
  },
  {
   "cell_type": "code",
   "execution_count": 11,
   "metadata": {},
   "outputs": [
    {
     "name": "stdout",
     "output_type": "stream",
     "text": [
      "832/832 [==============================] - 0s     \n"
     ]
    },
    {
     "data": {
      "text/plain": [
       "[1.7899757440273578, 0.49519230769230771]"
      ]
     },
     "execution_count": 11,
     "metadata": {},
     "output_type": "execute_result"
    }
   ],
   "source": [
    "model_top.evaluate(validation_data, validation_labels)"
   ]
  },
  {
   "cell_type": "markdown",
   "metadata": {},
   "source": [
    "Evolution of accuracy on training (blue) and validation (green) sets for 1 to 32 epochs :"
   ]
  },
  {
   "cell_type": "markdown",
   "metadata": {},
   "source": [
    "![Accuracy evolution](pictures/scores_with_bottleneck.png)"
   ]
  },
  {
   "cell_type": "markdown",
   "metadata": {},
   "source": [
    "**We reached a 90% accuracy on the validation after ~1m of training (~20 epochs) and 8% of the samples originally available on the Kaggle competition !**"
   ]
  },
  {
   "cell_type": "code",
   "execution_count": null,
   "metadata": {
    "collapsed": true
   },
   "outputs": [],
   "source": [
    "##Fine-tuning the top layers of a a pre-trained network"
   ]
  },
  {
   "cell_type": "markdown",
   "metadata": {
    "collapsed": true
   },
   "source": [
    "Start by instantiating the VGG base and loading its weights."
   ]
  },
  {
   "cell_type": "code",
   "execution_count": 12,
   "metadata": {
    "collapsed": true
   },
   "outputs": [],
   "source": [
    "model_vgg = Sequential()\n",
    "model_vgg.add(ZeroPadding2D((1, 1), input_shape=(img_width, img_height,3)))\n",
    "model_vgg.add(Convolution2D(64, 3, 3, activation='relu', name='conv1_1'))\n",
    "model_vgg.add(ZeroPadding2D((1, 1)))\n",
    "model_vgg.add(Convolution2D(64, 3, 3, activation='relu', name='conv1_2'))\n",
    "model_vgg.add(MaxPooling2D((2, 2), strides=(2, 2)))\n",
    "\n",
    "model_vgg.add(ZeroPadding2D((1, 1)))\n",
    "model_vgg.add(Convolution2D(128, 3, 3, activation='relu', name='conv2_1'))\n",
    "model_vgg.add(ZeroPadding2D((1, 1)))\n",
    "model_vgg.add(Convolution2D(128, 3, 3, activation='relu', name='conv2_2'))\n",
    "model_vgg.add(MaxPooling2D((2, 2), strides=(2, 2)))\n",
    "\n",
    "model_vgg.add(ZeroPadding2D((1, 1)))\n",
    "model_vgg.add(Convolution2D(256, 3, 3, activation='relu', name='conv3_1'))\n",
    "model_vgg.add(ZeroPadding2D((1, 1)))\n",
    "model_vgg.add(Convolution2D(256, 3, 3, activation='relu', name='conv3_2'))\n",
    "model_vgg.add(ZeroPadding2D((1, 1)))\n",
    "model_vgg.add(Convolution2D(256, 3, 3, activation='relu', name='conv3_3'))\n",
    "model_vgg.add(MaxPooling2D((2, 2), strides=(2, 2)))\n",
    "\n",
    "model_vgg.add(ZeroPadding2D((1, 1)))\n",
    "model_vgg.add(Convolution2D(512, 3, 3, activation='relu', name='conv4_1'))\n",
    "model_vgg.add(ZeroPadding2D((1, 1)))\n",
    "model_vgg.add(Convolution2D(512, 3, 3, activation='relu', name='conv4_2'))\n",
    "model_vgg.add(ZeroPadding2D((1, 1)))\n",
    "model_vgg.add(Convolution2D(512, 3, 3, activation='relu', name='conv4_3'))\n",
    "model_vgg.add(MaxPooling2D((2, 2), strides=(2, 2)))\n",
    "\n",
    "model_vgg.add(ZeroPadding2D((1, 1)))\n",
    "model_vgg.add(Convolution2D(512, 3, 3, activation='relu', name='conv5_1'))\n",
    "model_vgg.add(ZeroPadding2D((1, 1)))\n",
    "model_vgg.add(Convolution2D(512, 3, 3, activation='relu', name='conv5_2'))\n",
    "model_vgg.add(ZeroPadding2D((1, 1)))\n",
    "model_vgg.add(Convolution2D(512, 3, 3, activation='relu', name='conv5_3'))\n",
    "model_vgg.add(MaxPooling2D((2, 2), strides=(2, 2)))"
   ]
  },
  {
   "cell_type": "code",
   "execution_count": 14,
   "metadata": {},
   "outputs": [],
   "source": [
    "import h5py\n",
    "f = h5py.File('models/vgg/vgg16_weights1.h5')\n",
    "for k in range(f.attrs['nb_layers']):\n",
    "    if k >= len(model_vgg.layers) - 1:\n",
    "        # we don't look at the last two layers in the savefile (fully-connected and activation)\n",
    "        break\n",
    "    g = f['layer_{}'.format(k)]\n",
    "    weights = [g['param_{}'.format(p)] for p in range(g.attrs['nb_params'])]\n",
    "    layer = model_vgg.layers[k]\n",
    "\n",
    "    if layer.__class__.__name__ in ['Convolution1D', 'Convolution2D', 'Convolution3D', 'AtrousConvolution2D']:\n",
    "        weights[0] = np.transpose(weights[0], (2, 3, 1, 0))\n",
    "\n",
    "    layer.set_weights(weights)\n",
    "\n",
    "f.close()"
   ]
  },
  {
   "cell_type": "markdown",
   "metadata": {},
   "source": [
    "Build a classifier model to put on top of the convolutional model. For the fine tuning, we start with a fully trained-classifer. We will use the weights from the earlier model. And then we will add this model on top of the convolutional base."
   ]
  },
  {
   "cell_type": "code",
   "execution_count": 15,
   "metadata": {
    "collapsed": true
   },
   "outputs": [],
   "source": [
    "top_model = Sequential()\n",
    "top_model.add(Flatten(input_shape=model_vgg.output_shape[1:]))\n",
    "top_model.add(Dense(256, activation='relu'))\n",
    "top_model.add(Dropout(0.5))\n",
    "top_model.add(Dense(1, activation='sigmoid'))\n",
    "\n",
    "top_model.load_weights('models/bottleneck_40_epochs.h5')\n",
    "\n",
    "model_vgg.add(top_model)"
   ]
  },
  {
   "cell_type": "markdown",
   "metadata": {},
   "source": [
    "For fine turning, we only want to train a few layers.  This line will set the first 25 layers (up to the conv block) to non-trainable."
   ]
  },
  {
   "cell_type": "code",
   "execution_count": 16,
   "metadata": {
    "collapsed": true
   },
   "outputs": [],
   "source": [
    "for layer in model_vgg.layers[:25]:\n",
    "    layer.trainable = False"
   ]
  },
  {
   "cell_type": "code",
   "execution_count": 17,
   "metadata": {
    "collapsed": true
   },
   "outputs": [],
   "source": [
    "# compile the model with a SGD/momentum optimizer\n",
    "# and a very slow learning rate.\n",
    "model_vgg.compile(loss='binary_crossentropy',\n",
    "              optimizer=optimizers.SGD(lr=1e-4, momentum=0.9),\n",
    "              metrics=['accuracy'])"
   ]
  },
  {
   "cell_type": "code",
   "execution_count": 18,
   "metadata": {},
   "outputs": [
    {
     "name": "stdout",
     "output_type": "stream",
     "text": [
      "Found 21997 images belonging to 2 classes.\n",
      "Found 3002 images belonging to 2 classes.\n"
     ]
    }
   ],
   "source": [
    "# prepare data augmentation configuration  . . . do we need this?\n",
    "train_datagen = ImageDataGenerator(\n",
    "        rescale=1./255,\n",
    "        shear_range=0.2,\n",
    "        zoom_range=0.2,\n",
    "        horizontal_flip=True)\n",
    "\n",
    "test_datagen = ImageDataGenerator(rescale=1./255)\n",
    "\n",
    "train_generator = train_datagen.flow_from_directory(\n",
    "        train_data_dir,\n",
    "        target_size=(img_height, img_width),\n",
    "        batch_size=32,\n",
    "        class_mode='binary')\n",
    "\n",
    "validation_generator = test_datagen.flow_from_directory(\n",
    "        validation_data_dir,\n",
    "        target_size=(img_height, img_width),\n",
    "        batch_size=32,\n",
    "        class_mode='binary')"
   ]
  },
  {
   "cell_type": "code",
   "execution_count": null,
   "metadata": {},
   "outputs": [
    {
     "name": "stdout",
     "output_type": "stream",
     "text": [
      "Epoch 1/40\n",
      "2048/2048 [==============================] - 2246s - loss: 0.8554 - acc: 0.5127 - val_loss: 0.6659 - val_acc: 0.6154\n",
      "Epoch 2/40\n",
      "2048/2048 [==============================] - 2359s - loss: 0.6576 - acc: 0.5908 - val_loss: 0.6149 - val_acc: 0.6863\n",
      "Epoch 3/40\n",
      "2048/2048 [==============================] - 2282s - loss: 0.6151 - acc: 0.6567 - val_loss: 0.4915 - val_acc: 0.7751\n",
      "Epoch 4/40\n",
      "2016/2048 [============================>.] - ETA: 26s - loss: 0.5567 - acc: 0.7222"
     ]
    }
   ],
   "source": [
    "# fine-tune the model\n",
    "model_vgg.fit_generator(\n",
    "        train_generator,\n",
    "        samples_per_epoch=nb_train_samples,\n",
    "        nb_epoch=nb_epoch,\n",
    "        validation_data=validation_generator,\n",
    "        nb_val_samples=nb_validation_samples)"
   ]
  },
  {
   "cell_type": "code",
   "execution_count": null,
   "metadata": {
    "collapsed": true
   },
   "outputs": [],
   "source": [
    "model_vgg.save_weights('models/finetuning_20epochs_vgg.h5')"
   ]
  },
  {
   "cell_type": "code",
   "execution_count": null,
   "metadata": {
    "collapsed": true
   },
   "outputs": [],
   "source": [
    "model_vgg.load_weights('models/finetuning_20epochs_vgg.h5')"
   ]
  },
  {
   "cell_type": "markdown",
   "metadata": {},
   "source": [
    "### Evaluating on validation set"
   ]
  },
  {
   "cell_type": "markdown",
   "metadata": {},
   "source": [
    "Computing loss and accuracy :"
   ]
  },
  {
   "cell_type": "code",
   "execution_count": null,
   "metadata": {
    "collapsed": true
   },
   "outputs": [],
   "source": [
    "model_vgg.evaluate_generator(validation_generator, nb_validation_samples)"
   ]
  },
  {
   "cell_type": "code",
   "execution_count": null,
   "metadata": {
    "collapsed": true
   },
   "outputs": [],
   "source": [
    "model.evaluate_generator(validation_generator, nb_validation_samples)"
   ]
  },
  {
   "cell_type": "code",
   "execution_count": null,
   "metadata": {
    "collapsed": true
   },
   "outputs": [],
   "source": [
    "model_top.evaluate(validation_data, validation_labels)"
   ]
  }
 ],
 "metadata": {
  "kernelspec": {
   "display_name": "Python 3",
   "language": "python",
   "name": "python3"
  },
  "language_info": {
   "codemirror_mode": {
    "name": "ipython",
    "version": 3
   },
   "file_extension": ".py",
   "mimetype": "text/x-python",
   "name": "python",
   "nbconvert_exporter": "python",
   "pygments_lexer": "ipython3",
   "version": "3.5.3"
  }
 },
 "nbformat": 4,
 "nbformat_minor": 1
}
