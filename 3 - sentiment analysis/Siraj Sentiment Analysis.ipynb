{
 "cells": [
  {
   "cell_type": "code",
   "execution_count": 1,
   "metadata": {
    "collapsed": false
   },
   "outputs": [],
   "source": [
    "import tflearn\n",
    "from tflearn.data_utils import to_categorical, pad_sequences\n",
    "from tflearn.datasets import imdb"
   ]
  },
  {
   "cell_type": "code",
   "execution_count": 2,
   "metadata": {
    "collapsed": true
   },
   "outputs": [],
   "source": [
    "import pandas as pd"
   ]
  },
  {
   "cell_type": "markdown",
   "metadata": {},
   "source": [
    "# Load IMDB Dataset"
   ]
  },
  {
   "cell_type": "code",
   "execution_count": 3,
   "metadata": {
    "collapsed": false
   },
   "outputs": [],
   "source": [
    "train, test, _ = imdb.load_data(path='imdb.pkl',\n",
    "                                n_words=10000,\n",
    "                                valid_portion=0.1) # 10% of data as \"validation set\""
   ]
  },
  {
   "cell_type": "code",
   "execution_count": 4,
   "metadata": {
    "collapsed": false
   },
   "outputs": [],
   "source": [
    "trainX, trainY = train\n",
    "testX,  testY  = test"
   ]
  },
  {
   "cell_type": "markdown",
   "metadata": {},
   "source": [
    "### All about trainX"
   ]
  },
  {
   "cell_type": "code",
   "execution_count": 5,
   "metadata": {
    "collapsed": false,
    "scrolled": true
   },
   "outputs": [
    {
     "data": {
      "text/plain": [
       "22495    [2544, 547, 44, 581, 3692, 2383, 6, 2609, 133,...\n",
       "22496    [44, 167, 30, 155, 254, 563, 6, 240, 55, 2, 17...\n",
       "22497    [119, 40, 40, 87, 1028, 87, 40, 40, 119, 12, 1...\n",
       "22498    [119, 119, 704, 1028, 119, 119, 12, 13, 9, 11,...\n",
       "22499    [1017, 360, 84, 4926, 774, 2739, 1017, 1, 1527...\n",
       "dtype: object"
      ]
     },
     "execution_count": 5,
     "metadata": {},
     "output_type": "execute_result"
    }
   ],
   "source": [
    "pd.Series(trainX).tail()"
   ]
  },
  {
   "cell_type": "code",
   "execution_count": 6,
   "metadata": {
    "collapsed": false
   },
   "outputs": [
    {
     "name": "stdout",
     "output_type": "stream",
     "text": [
      "[17, 27, 10, 6, 303, 5, 1357, 27, 4, 14, 10, 67, 4493, 8, 163, 1, 2, 8769, 1394, 3, 99, 14, 10, 1286, 1252, 303, 4, 14, 10, 45, 333, 27, 5, 16, 393, 14, 4, 12, 13, 9, 11, 12, 13, 9, 11, 14, 10, 67, 7336, 3, 1139, 3, 5, 1, 4, 50, 35, 61, 46, 117, 14, 10, 33, 7336, 3, 26, 14, 10, 4, 12, 13, 9, 11, 12, 13, 9, 11, 14, 10, 55, 2, 1, 7, 2, 1394, 7, 1818, 2958, 7, 1548, 273, 8213, 3, 5, 55, 2, 8936, 3, 2175, 1194, 3, 46, 4689, 14, 4, 14, 56, 156, 693, 15, 36, 136, 22, 2, 3550, 18, 34, 80, 65, 34, 21, 6, 414, 448, 3, 36, 1, 2449, 1194, 3, 2449, 3, 36, 332, 3, 745, 2564, 3, 5, 48, 31, 4, 26, 105, 3487, 14, 2639, 2, 1, 7, 2, 1394, 4]\n"
     ]
    }
   ],
   "source": [
    "print( list(pd.Series(trainX).iloc[5555]) )"
   ]
  },
  {
   "cell_type": "code",
   "execution_count": 7,
   "metadata": {
    "collapsed": false
   },
   "outputs": [
    {
     "data": {
      "text/plain": [
       "(22500,)"
      ]
     },
     "execution_count": 7,
     "metadata": {},
     "output_type": "execute_result"
    }
   ],
   "source": [
    "pd.Series(trainX).shape"
   ]
  },
  {
   "cell_type": "markdown",
   "metadata": {},
   "source": [
    "### All about trainY"
   ]
  },
  {
   "cell_type": "code",
   "execution_count": 8,
   "metadata": {
    "collapsed": false
   },
   "outputs": [
    {
     "data": {
      "text/plain": [
       "22495    1\n",
       "22496    1\n",
       "22497    1\n",
       "22498    1\n",
       "22499    1\n",
       "dtype: int64"
      ]
     },
     "execution_count": 8,
     "metadata": {},
     "output_type": "execute_result"
    }
   ],
   "source": [
    "pd.Series(trainY).tail()"
   ]
  },
  {
   "cell_type": "code",
   "execution_count": 9,
   "metadata": {
    "collapsed": false
   },
   "outputs": [
    {
     "data": {
      "text/plain": [
       "(22500,)"
      ]
     },
     "execution_count": 9,
     "metadata": {},
     "output_type": "execute_result"
    }
   ],
   "source": [
    "pd.Series(trainY).shape"
   ]
  },
  {
   "cell_type": "code",
   "execution_count": 10,
   "metadata": {
    "collapsed": false
   },
   "outputs": [
    {
     "data": {
      "text/plain": [
       "0    11271\n",
       "1    11229\n",
       "dtype: int64"
      ]
     },
     "execution_count": 10,
     "metadata": {},
     "output_type": "execute_result"
    }
   ],
   "source": [
    "pd.Series(trainY).value_counts()"
   ]
  },
  {
   "cell_type": "code",
   "execution_count": 11,
   "metadata": {
    "collapsed": false
   },
   "outputs": [
    {
     "data": {
      "text/plain": [
       "[0, 1]"
      ]
     },
     "execution_count": 11,
     "metadata": {},
     "output_type": "execute_result"
    }
   ],
   "source": [
    "pd.Series(trainY).value_counts().index.tolist()"
   ]
  },
  {
   "cell_type": "code",
   "execution_count": 12,
   "metadata": {
    "collapsed": false
   },
   "outputs": [
    {
     "data": {
      "text/plain": [
       "2"
      ]
     },
     "execution_count": 12,
     "metadata": {},
     "output_type": "execute_result"
    }
   ],
   "source": [
    "len(pd.Series(trainY).value_counts().index.tolist())"
   ]
  },
  {
   "cell_type": "markdown",
   "metadata": {},
   "source": [
    "# Data Preprocessing"
   ]
  },
  {
   "cell_type": "markdown",
   "metadata": {},
   "source": [
    "### Sequence Padding\n",
    "\n",
    "Pad each sequence to the same length: the length of the longest sequence.\n",
    "If maxlen is provided, any sequence longer than maxlen is truncated to\n",
    "maxlen. Truncation happens off either the beginning (default) or the\n",
    "end of the sequence. Supports post-padding and pre-padding (default)."
   ]
  },
  {
   "cell_type": "code",
   "execution_count": 13,
   "metadata": {
    "collapsed": true
   },
   "outputs": [],
   "source": [
    "trainX = pad_sequences(trainX, maxlen=100, value=0.0)\n",
    "testX  = pad_sequences(testX,  maxlen=100, value=0.0)"
   ]
  },
  {
   "cell_type": "code",
   "execution_count": 14,
   "metadata": {
    "collapsed": false
   },
   "outputs": [
    {
     "data": {
      "text/plain": [
       "(22500, 100)"
      ]
     },
     "execution_count": 14,
     "metadata": {},
     "output_type": "execute_result"
    }
   ],
   "source": [
    "trainX.shape"
   ]
  },
  {
   "cell_type": "code",
   "execution_count": 15,
   "metadata": {
    "collapsed": false
   },
   "outputs": [
    {
     "data": {
      "text/html": [
       "<div>\n",
       "<table border=\"1\" class=\"dataframe\">\n",
       "  <thead>\n",
       "    <tr style=\"text-align: right;\">\n",
       "      <th></th>\n",
       "      <th>0</th>\n",
       "      <th>1</th>\n",
       "      <th>2</th>\n",
       "      <th>3</th>\n",
       "      <th>4</th>\n",
       "      <th>5</th>\n",
       "      <th>6</th>\n",
       "      <th>7</th>\n",
       "      <th>8</th>\n",
       "      <th>9</th>\n",
       "      <th>...</th>\n",
       "      <th>90</th>\n",
       "      <th>91</th>\n",
       "      <th>92</th>\n",
       "      <th>93</th>\n",
       "      <th>94</th>\n",
       "      <th>95</th>\n",
       "      <th>96</th>\n",
       "      <th>97</th>\n",
       "      <th>98</th>\n",
       "      <th>99</th>\n",
       "    </tr>\n",
       "  </thead>\n",
       "  <tbody>\n",
       "    <tr>\n",
       "      <th>22495</th>\n",
       "      <td>49</td>\n",
       "      <td>6</td>\n",
       "      <td>179</td>\n",
       "      <td>7</td>\n",
       "      <td>534</td>\n",
       "      <td>3</td>\n",
       "      <td>6</td>\n",
       "      <td>303</td>\n",
       "      <td>1708</td>\n",
       "      <td>4</td>\n",
       "      <td>...</td>\n",
       "      <td>30</td>\n",
       "      <td>4</td>\n",
       "      <td>12</td>\n",
       "      <td>13</td>\n",
       "      <td>9</td>\n",
       "      <td>11</td>\n",
       "      <td>12</td>\n",
       "      <td>13</td>\n",
       "      <td>9</td>\n",
       "      <td>11</td>\n",
       "    </tr>\n",
       "    <tr>\n",
       "      <th>22496</th>\n",
       "      <td>255</td>\n",
       "      <td>1247</td>\n",
       "      <td>6</td>\n",
       "      <td>64</td>\n",
       "      <td>2494</td>\n",
       "      <td>319</td>\n",
       "      <td>167</td>\n",
       "      <td>37</td>\n",
       "      <td>2</td>\n",
       "      <td>589</td>\n",
       "      <td>...</td>\n",
       "      <td>1</td>\n",
       "      <td>99</td>\n",
       "      <td>167</td>\n",
       "      <td>64</td>\n",
       "      <td>63</td>\n",
       "      <td>1</td>\n",
       "      <td>6</td>\n",
       "      <td>779</td>\n",
       "      <td>27</td>\n",
       "      <td>4</td>\n",
       "    </tr>\n",
       "    <tr>\n",
       "      <th>22497</th>\n",
       "      <td>60</td>\n",
       "      <td>40</td>\n",
       "      <td>184</td>\n",
       "      <td>59</td>\n",
       "      <td>3443</td>\n",
       "      <td>288</td>\n",
       "      <td>15</td>\n",
       "      <td>4</td>\n",
       "      <td>885</td>\n",
       "      <td>14</td>\n",
       "      <td>...</td>\n",
       "      <td>17</td>\n",
       "      <td>25</td>\n",
       "      <td>5307</td>\n",
       "      <td>6</td>\n",
       "      <td>1</td>\n",
       "      <td>47</td>\n",
       "      <td>2</td>\n",
       "      <td>7930</td>\n",
       "      <td>84</td>\n",
       "      <td>4</td>\n",
       "    </tr>\n",
       "    <tr>\n",
       "      <th>22498</th>\n",
       "      <td>19</td>\n",
       "      <td>5953</td>\n",
       "      <td>19</td>\n",
       "      <td>60</td>\n",
       "      <td>974</td>\n",
       "      <td>4</td>\n",
       "      <td>26</td>\n",
       "      <td>57</td>\n",
       "      <td>14</td>\n",
       "      <td>1512</td>\n",
       "      <td>...</td>\n",
       "      <td>12</td>\n",
       "      <td>13</td>\n",
       "      <td>9</td>\n",
       "      <td>11</td>\n",
       "      <td>1479</td>\n",
       "      <td>87</td>\n",
       "      <td>6</td>\n",
       "      <td>609</td>\n",
       "      <td>87</td>\n",
       "      <td>903</td>\n",
       "    </tr>\n",
       "    <tr>\n",
       "      <th>22499</th>\n",
       "      <td>741</td>\n",
       "      <td>204</td>\n",
       "      <td>58</td>\n",
       "      <td>7</td>\n",
       "      <td>2</td>\n",
       "      <td>1072</td>\n",
       "      <td>5</td>\n",
       "      <td>309</td>\n",
       "      <td>8896</td>\n",
       "      <td>1</td>\n",
       "      <td>...</td>\n",
       "      <td>6</td>\n",
       "      <td>1</td>\n",
       "      <td>12</td>\n",
       "      <td>13</td>\n",
       "      <td>9</td>\n",
       "      <td>11</td>\n",
       "      <td>12</td>\n",
       "      <td>13</td>\n",
       "      <td>9</td>\n",
       "      <td>11</td>\n",
       "    </tr>\n",
       "  </tbody>\n",
       "</table>\n",
       "<p>5 rows × 100 columns</p>\n",
       "</div>"
      ],
      "text/plain": [
       "        0     1    2   3     4     5    6    7     8     9  ...   90  91  \\\n",
       "22495   49     6  179   7   534     3    6  303  1708     4 ...   30   4   \n",
       "22496  255  1247    6  64  2494   319  167   37     2   589 ...    1  99   \n",
       "22497   60    40  184  59  3443   288   15    4   885    14 ...   17  25   \n",
       "22498   19  5953   19  60   974     4   26   57    14  1512 ...   12  13   \n",
       "22499  741   204   58   7     2  1072    5  309  8896     1 ...    6   1   \n",
       "\n",
       "         92  93    94  95  96    97  98   99  \n",
       "22495    12  13     9  11  12    13   9   11  \n",
       "22496   167  64    63   1   6   779  27    4  \n",
       "22497  5307   6     1  47   2  7930  84    4  \n",
       "22498     9  11  1479  87   6   609  87  903  \n",
       "22499    12  13     9  11  12    13   9   11  \n",
       "\n",
       "[5 rows x 100 columns]"
      ]
     },
     "execution_count": 15,
     "metadata": {},
     "output_type": "execute_result"
    }
   ],
   "source": [
    "pd.DataFrame(trainX).tail()"
   ]
  },
  {
   "cell_type": "code",
   "execution_count": 16,
   "metadata": {
    "collapsed": false
   },
   "outputs": [
    {
     "data": {
      "text/html": [
       "<div>\n",
       "<table border=\"1\" class=\"dataframe\">\n",
       "  <thead>\n",
       "    <tr style=\"text-align: right;\">\n",
       "      <th></th>\n",
       "      <th>0</th>\n",
       "      <th>1</th>\n",
       "      <th>2</th>\n",
       "      <th>3</th>\n",
       "      <th>4</th>\n",
       "      <th>5</th>\n",
       "      <th>6</th>\n",
       "      <th>7</th>\n",
       "      <th>8</th>\n",
       "      <th>9</th>\n",
       "      <th>...</th>\n",
       "      <th>90</th>\n",
       "      <th>91</th>\n",
       "      <th>92</th>\n",
       "      <th>93</th>\n",
       "      <th>94</th>\n",
       "      <th>95</th>\n",
       "      <th>96</th>\n",
       "      <th>97</th>\n",
       "      <th>98</th>\n",
       "      <th>99</th>\n",
       "    </tr>\n",
       "  </thead>\n",
       "  <tbody>\n",
       "    <tr>\n",
       "      <th>2495</th>\n",
       "      <td>5</td>\n",
       "      <td>5548</td>\n",
       "      <td>9090</td>\n",
       "      <td>4</td>\n",
       "      <td>15</td>\n",
       "      <td>721</td>\n",
       "      <td>7</td>\n",
       "      <td>64</td>\n",
       "      <td>1119</td>\n",
       "      <td>693</td>\n",
       "      <td>...</td>\n",
       "      <td>9</td>\n",
       "      <td>11</td>\n",
       "      <td>12</td>\n",
       "      <td>13</td>\n",
       "      <td>9</td>\n",
       "      <td>11</td>\n",
       "      <td>12</td>\n",
       "      <td>13</td>\n",
       "      <td>9</td>\n",
       "      <td>11</td>\n",
       "    </tr>\n",
       "    <tr>\n",
       "      <th>2496</th>\n",
       "      <td>9080</td>\n",
       "      <td>8</td>\n",
       "      <td>852</td>\n",
       "      <td>19</td>\n",
       "      <td>329</td>\n",
       "      <td>19</td>\n",
       "      <td>102</td>\n",
       "      <td>88</td>\n",
       "      <td>34</td>\n",
       "      <td>742</td>\n",
       "      <td>...</td>\n",
       "      <td>8</td>\n",
       "      <td>401</td>\n",
       "      <td>59</td>\n",
       "      <td>10</td>\n",
       "      <td>187</td>\n",
       "      <td>31</td>\n",
       "      <td>15</td>\n",
       "      <td>2</td>\n",
       "      <td>9295</td>\n",
       "      <td>4</td>\n",
       "    </tr>\n",
       "    <tr>\n",
       "      <th>2497</th>\n",
       "      <td>26</td>\n",
       "      <td>2</td>\n",
       "      <td>27</td>\n",
       "      <td>145</td>\n",
       "      <td>640</td>\n",
       "      <td>31</td>\n",
       "      <td>45</td>\n",
       "      <td>6888</td>\n",
       "      <td>895</td>\n",
       "      <td>4</td>\n",
       "      <td>...</td>\n",
       "      <td>813</td>\n",
       "      <td>3</td>\n",
       "      <td>61</td>\n",
       "      <td>7</td>\n",
       "      <td>2</td>\n",
       "      <td>6853</td>\n",
       "      <td>93</td>\n",
       "      <td>852</td>\n",
       "      <td>1</td>\n",
       "      <td>4</td>\n",
       "    </tr>\n",
       "    <tr>\n",
       "      <th>2498</th>\n",
       "      <td>13</td>\n",
       "      <td>9</td>\n",
       "      <td>11</td>\n",
       "      <td>895</td>\n",
       "      <td>84</td>\n",
       "      <td>119</td>\n",
       "      <td>64</td>\n",
       "      <td>1</td>\n",
       "      <td>85</td>\n",
       "      <td>6681</td>\n",
       "      <td>...</td>\n",
       "      <td>10</td>\n",
       "      <td>6</td>\n",
       "      <td>1</td>\n",
       "      <td>23</td>\n",
       "      <td>1352</td>\n",
       "      <td>4239</td>\n",
       "      <td>6471</td>\n",
       "      <td>7107</td>\n",
       "      <td>1</td>\n",
       "      <td>4</td>\n",
       "    </tr>\n",
       "    <tr>\n",
       "      <th>2499</th>\n",
       "      <td>8</td>\n",
       "      <td>69</td>\n",
       "      <td>958</td>\n",
       "      <td>1583</td>\n",
       "      <td>4</td>\n",
       "      <td>14</td>\n",
       "      <td>10</td>\n",
       "      <td>6</td>\n",
       "      <td>230</td>\n",
       "      <td>445</td>\n",
       "      <td>...</td>\n",
       "      <td>1284</td>\n",
       "      <td>305</td>\n",
       "      <td>164</td>\n",
       "      <td>4</td>\n",
       "      <td>104</td>\n",
       "      <td>32</td>\n",
       "      <td>725</td>\n",
       "      <td>17</td>\n",
       "      <td>39</td>\n",
       "      <td>4</td>\n",
       "    </tr>\n",
       "  </tbody>\n",
       "</table>\n",
       "<p>5 rows × 100 columns</p>\n",
       "</div>"
      ],
      "text/plain": [
       "        0     1     2     3    4    5    6     7     8     9  ...    90   91  \\\n",
       "2495     5  5548  9090     4   15  721    7    64  1119   693 ...     9   11   \n",
       "2496  9080     8   852    19  329   19  102    88    34   742 ...     8  401   \n",
       "2497    26     2    27   145  640   31   45  6888   895     4 ...   813    3   \n",
       "2498    13     9    11   895   84  119   64     1    85  6681 ...    10    6   \n",
       "2499     8    69   958  1583    4   14   10     6   230   445 ...  1284  305   \n",
       "\n",
       "       92  93    94    95    96    97    98  99  \n",
       "2495   12  13     9    11    12    13     9  11  \n",
       "2496   59  10   187    31    15     2  9295   4  \n",
       "2497   61   7     2  6853    93   852     1   4  \n",
       "2498    1  23  1352  4239  6471  7107     1   4  \n",
       "2499  164   4   104    32   725    17    39   4  \n",
       "\n",
       "[5 rows x 100 columns]"
      ]
     },
     "execution_count": 16,
     "metadata": {},
     "output_type": "execute_result"
    }
   ],
   "source": [
    "pd.DataFrame(testX).tail()"
   ]
  },
  {
   "cell_type": "markdown",
   "metadata": {},
   "source": [
    "### Convert Labels to Vectors\n",
    "Converting labels to binary vectors"
   ]
  },
  {
   "cell_type": "code",
   "execution_count": 17,
   "metadata": {
    "collapsed": false
   },
   "outputs": [],
   "source": [
    "trainY = to_categorical(trainY, nb_classes=2)\n",
    "testY  = to_categorical(testY,  nb_classes=2)"
   ]
  },
  {
   "cell_type": "code",
   "execution_count": 18,
   "metadata": {
    "collapsed": false
   },
   "outputs": [
    {
     "data": {
      "text/plain": [
       "array([[ 1.,  0.],\n",
       "       [ 1.,  0.],\n",
       "       [ 1.,  0.],\n",
       "       ..., \n",
       "       [ 0.,  1.],\n",
       "       [ 0.,  1.],\n",
       "       [ 0.,  1.]])"
      ]
     },
     "execution_count": 18,
     "metadata": {},
     "output_type": "execute_result"
    }
   ],
   "source": [
    "trainY"
   ]
  },
  {
   "cell_type": "code",
   "execution_count": 19,
   "metadata": {
    "collapsed": false
   },
   "outputs": [
    {
     "data": {
      "text/html": [
       "<div>\n",
       "<table border=\"1\" class=\"dataframe\">\n",
       "  <thead>\n",
       "    <tr style=\"text-align: right;\">\n",
       "      <th></th>\n",
       "      <th>0</th>\n",
       "      <th>1</th>\n",
       "    </tr>\n",
       "  </thead>\n",
       "  <tbody>\n",
       "    <tr>\n",
       "      <th>22495</th>\n",
       "      <td>0.0</td>\n",
       "      <td>1.0</td>\n",
       "    </tr>\n",
       "    <tr>\n",
       "      <th>22496</th>\n",
       "      <td>0.0</td>\n",
       "      <td>1.0</td>\n",
       "    </tr>\n",
       "    <tr>\n",
       "      <th>22497</th>\n",
       "      <td>0.0</td>\n",
       "      <td>1.0</td>\n",
       "    </tr>\n",
       "    <tr>\n",
       "      <th>22498</th>\n",
       "      <td>0.0</td>\n",
       "      <td>1.0</td>\n",
       "    </tr>\n",
       "    <tr>\n",
       "      <th>22499</th>\n",
       "      <td>0.0</td>\n",
       "      <td>1.0</td>\n",
       "    </tr>\n",
       "  </tbody>\n",
       "</table>\n",
       "</div>"
      ],
      "text/plain": [
       "         0    1\n",
       "22495  0.0  1.0\n",
       "22496  0.0  1.0\n",
       "22497  0.0  1.0\n",
       "22498  0.0  1.0\n",
       "22499  0.0  1.0"
      ]
     },
     "execution_count": 19,
     "metadata": {},
     "output_type": "execute_result"
    }
   ],
   "source": [
    "pd.DataFrame(trainY).tail()"
   ]
  },
  {
   "cell_type": "markdown",
   "metadata": {},
   "source": [
    "# Network Building"
   ]
  },
  {
   "cell_type": "code",
   "execution_count": 20,
   "metadata": {
    "collapsed": false
   },
   "outputs": [],
   "source": [
    "# The first element is the \"batch size\" which we set to \"None\"\n",
    "# The second element is set to \"100\" coz we set the max sequence length to \"100\"\n",
    "net = tflearn.input_data([None, 100])\n",
    "net = tflearn.embedding(net, input_dim=10000, output_dim=128) # input_dim: Vocabulary size (number of ids)\n",
    "net = tflearn.lstm(net, 128, dropout=0.8) # Long Short Term Memory Recurrent Layer\n",
    "net = tflearn.fully_connected(net, 2, activation='softmax')\n",
    "net = tflearn.regression(net, \n",
    "                         optimizer='adam', \n",
    "                         learning_rate=1e-4,\n",
    "                         loss='categorical_crossentropy')"
   ]
  },
  {
   "cell_type": "markdown",
   "metadata": {},
   "source": [
    "# Training"
   ]
  },
  {
   "cell_type": "code",
   "execution_count": 21,
   "metadata": {
    "collapsed": false
   },
   "outputs": [
    {
     "name": "stdout",
     "output_type": "stream",
     "text": [
      "Training Step: 7040  | total loss: \u001b[1m\u001b[32m0.10768\u001b[0m\u001b[0m\n",
      "| Adam | epoch: 010 | loss: 0.10768 - acc: 0.9734 | val_loss: 0.55273 - val_acc: 0.8196 -- iter: 22500/22500\n",
      "Training Step: 7040  | total loss: \u001b[1m\u001b[32m0.10768\u001b[0m\u001b[0m\n",
      "| Adam | epoch: 010 | loss: 0.10768 - acc: 0.9734 | val_loss: 0.55273 - val_acc: 0.8196 -- iter: 22500/22500\n",
      "--\n"
     ]
    }
   ],
   "source": [
    "model = tflearn.DNN(net, tensorboard_verbose=0)\n",
    "model.fit(trainX, trainY, validation_set=(testX, testY), show_metric=True, batch_size=32)"
   ]
  },
  {
   "cell_type": "code",
   "execution_count": null,
   "metadata": {
    "collapsed": true
   },
   "outputs": [],
   "source": []
  }
 ],
 "metadata": {
  "kernelspec": {
   "display_name": "Python 3",
   "language": "python",
   "name": "python3"
  },
  "language_info": {
   "codemirror_mode": {
    "name": "ipython",
    "version": 3
   },
   "file_extension": ".py",
   "mimetype": "text/x-python",
   "name": "python",
   "nbconvert_exporter": "python",
   "pygments_lexer": "ipython3",
   "version": "3.5.2"
  }
 },
 "nbformat": 4,
 "nbformat_minor": 2
}
